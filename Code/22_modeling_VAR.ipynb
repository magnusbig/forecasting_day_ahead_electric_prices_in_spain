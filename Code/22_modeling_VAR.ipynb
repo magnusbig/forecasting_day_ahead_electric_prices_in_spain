{
 "cells": [
  {
   "cell_type": "markdown",
   "metadata": {},
   "source": [
    "# VAR Models\n",
    "\n",
    "Notebook for testing Vector Autoregressive Models"
   ]
  },
  {
   "cell_type": "markdown",
   "metadata": {},
   "source": [
    "## Problem Statement"
   ]
  },
  {
   "cell_type": "markdown",
   "metadata": {},
   "source": [
    "Predict electricity prices in Spain for each hour of the upcoming day more accurately than estimates provided by the Spanish transmission agent and operator. \n",
    "\n",
    "Use information available during the 2pm-3pm window the previous day during which generators in Spain submit their bids. "
   ]
  },
  {
   "cell_type": "markdown",
   "metadata": {},
   "source": [
    "## Contents"
   ]
  },
  {
   "cell_type": "markdown",
   "metadata": {},
   "source": [
    "- [Imports](#Imports)\n",
    "- [Functions Used](#Functions-Used)\n",
    "- [Prepare Data](#Prepare-Data)\n",
    "- [VAR](#VAR-Model)\n",
    "- [VARMAX](#VARMAX-Model)\n",
    "- [Results for Analysis](#Results-for-Analysis)"
   ]
  },
  {
   "cell_type": "markdown",
   "metadata": {},
   "source": [
    "### Imports"
   ]
  },
  {
   "cell_type": "code",
   "execution_count": 61,
   "metadata": {},
   "outputs": [],
   "source": [
    "# General Imports\n",
    "import pandas as pd\n",
    "import seaborn as sns\n",
    "import matplotlib.pyplot as plt\n",
    "import numpy as np\n",
    "\n",
    "# General modeling imports\n",
    "from sklearn.model_selection import train_test_split, cross_val_score, GridSearchCV, TimeSeriesSplit\n",
    "from sklearn import metrics\n",
    "\n",
    "# Models\n",
    "from statsmodels.tsa.api import VAR, VARMAX"
   ]
  },
  {
   "cell_type": "code",
   "execution_count": 2,
   "metadata": {},
   "outputs": [],
   "source": [
    "df = pd.read_csv('../Data/Analysis/model_data.csv')\n",
    "visuals = pd.read_csv('../Data/intermediary/energy.csv')"
   ]
  },
  {
   "cell_type": "code",
   "execution_count": 3,
   "metadata": {},
   "outputs": [
    {
     "data": {
      "text/html": [
       "<div>\n",
       "<style scoped>\n",
       "    .dataframe tbody tr th:only-of-type {\n",
       "        vertical-align: middle;\n",
       "    }\n",
       "\n",
       "    .dataframe tbody tr th {\n",
       "        vertical-align: top;\n",
       "    }\n",
       "\n",
       "    .dataframe thead th {\n",
       "        text-align: right;\n",
       "    }\n",
       "</style>\n",
       "<table border=\"1\" class=\"dataframe\">\n",
       "  <thead>\n",
       "    <tr style=\"text-align: right;\">\n",
       "      <th></th>\n",
       "      <th>price_actual</th>\n",
       "      <th>price_day_ahead</th>\n",
       "    </tr>\n",
       "    <tr>\n",
       "      <th>time</th>\n",
       "      <th></th>\n",
       "      <th></th>\n",
       "    </tr>\n",
       "  </thead>\n",
       "  <tbody>\n",
       "    <tr>\n",
       "      <th>2015-01-01 00:00:00+00:00</th>\n",
       "      <td>65.41</td>\n",
       "      <td>50.1</td>\n",
       "    </tr>\n",
       "    <tr>\n",
       "      <th>2015-01-01 01:00:00+00:00</th>\n",
       "      <td>64.92</td>\n",
       "      <td>48.1</td>\n",
       "    </tr>\n",
       "  </tbody>\n",
       "</table>\n",
       "</div>"
      ],
      "text/plain": [
       "                           price_actual  price_day_ahead\n",
       "time                                                    \n",
       "2015-01-01 00:00:00+00:00         65.41             50.1\n",
       "2015-01-01 01:00:00+00:00         64.92             48.1"
      ]
     },
     "execution_count": 3,
     "metadata": {},
     "output_type": "execute_result"
    }
   ],
   "source": [
    "# visuals contains the prices attached to their original hour\n",
    "# and will be used to visualize and compare our predictions\n",
    "visuals.set_index(pd.DatetimeIndex(visuals['time']), inplace=True)\n",
    "visuals = visuals[['price_actual','price_day_ahead']]\n",
    "visuals.head(2)"
   ]
  },
  {
   "cell_type": "code",
   "execution_count": 57,
   "metadata": {},
   "outputs": [],
   "source": [
    "# Prediction df for appending test predictions too\n",
    "pred_df = visuals[visuals.index.year == 2018]"
   ]
  },
  {
   "cell_type": "markdown",
   "metadata": {},
   "source": [
    "### Functions Used"
   ]
  },
  {
   "cell_type": "code",
   "execution_count": 55,
   "metadata": {},
   "outputs": [],
   "source": [
    "# Function for evaluating the regressions\n",
    "# and outputting a dataframe of different metrics\n",
    "# for each hour predicted\n",
    "def reg_metrics(y_test, y_test_p, mod):\n",
    "    test_rmse = np.sqrt(((y_test-y_test_p)**(2)).mean())\n",
    "    test_r2 =  metrics.r2_score(y_test, y_test_p, multioutput='raw_values')\n",
    "    metrics_df = pd.DataFrame(data = zip(test_rmse, test_r2),\n",
    "                              columns=[mod+'test_rmse',mod+'test_r2'])\n",
    "    return metrics_df"
   ]
  },
  {
   "cell_type": "code",
   "execution_count": 5,
   "metadata": {},
   "outputs": [],
   "source": [
    "# function to convert predictions into dataframe for plotting\n",
    "def append_preds(preds, previous_preds, name):\n",
    "    new_preds = pd.DataFrame(np.ravel(preds),columns=[name], index=previous_preds.index)\n",
    "    return previous_preds.join(new_preds)"
   ]
  },
  {
   "cell_type": "markdown",
   "metadata": {},
   "source": [
    "### Prepare Data"
   ]
  },
  {
   "cell_type": "code",
   "execution_count": 6,
   "metadata": {},
   "outputs": [],
   "source": [
    "# Set up data frame for modeling\n",
    "# Drop time column\n",
    "df.drop(columns=['time'], inplace=True)\n",
    "# set index as date\n",
    "df.set_index(pd.DatetimeIndex(df['date']), inplace=True)\n",
    "# sort index\n",
    "df.sort_index(inplace=True)\n",
    "# drop hour of day and date column\n",
    "df.drop(columns=['hour_of_day','date'], inplace=True)\n",
    "\n",
    "# Get columns for y\n",
    "y_cols = [col for col in df.columns if col.startswith('t_price')]\n",
    "\n",
    "# only need y for VAR model\n",
    "y = df[y_cols]\n",
    "\n",
    "# Train test split\n",
    "train, test = train_test_split(y, shuffle=False)"
   ]
  },
  {
   "cell_type": "markdown",
   "metadata": {},
   "source": [
    "### VAR Model"
   ]
  },
  {
   "cell_type": "code",
   "execution_count": 28,
   "metadata": {},
   "outputs": [
    {
     "data": {
      "text/plain": [
       "7"
      ]
     },
     "execution_count": 28,
     "metadata": {},
     "output_type": "execute_result"
    }
   ],
   "source": [
    "# Instantiate a VAR model\n",
    "model = VAR(train, freq='D')\n",
    "\n",
    "# Fit our model and use AIC\n",
    "var_model = model.fit(maxlags=14, # at most a lag of 2 weeks\n",
    "                     ic='aic')  # using AIC to determine the best model\n",
    "\n",
    "# What is the order of our autoregressive model? \n",
    "var_model.k_ar"
   ]
  },
  {
   "cell_type": "code",
   "execution_count": 47,
   "metadata": {},
   "outputs": [
    {
     "data": {
      "text/plain": [
       "array([16.05319277, 11.11158413,  6.49468023,  5.47944946,  3.60792081,\n",
       "        5.05233039, 10.46236915, 17.46071685, 23.25033608, 27.47544268,\n",
       "       31.96112684, 34.13856574, 33.51396457, 32.67250808, 29.56730381,\n",
       "       28.1215851 , 29.05994878, 34.14878639, 44.39632105, 51.17161541,\n",
       "       53.00455629, 50.47241112, 43.26286055, 36.88436189])"
      ]
     },
     "execution_count": 47,
     "metadata": {},
     "output_type": "execute_result"
    }
   ],
   "source": [
    "var_model.forecast(train.values,1)[0]"
   ]
  },
  {
   "cell_type": "markdown",
   "metadata": {},
   "source": [
    "Our basic VAR model chose lags of 7 (i.e. predicting off the same day the previous week). This is unsurprising given our EDA showing that prices varied by day of week, with the weekend having much lower prices than the the weekdays.\n",
    "\n",
    "VAR models are generally good at predicting short term but begin to predict the mean when forecasting farther ahead in time. Thus we will build a process by which the VAR model continually predicts 1 value ahead and then retrains the model with the new data and predicts 1 value ahead. \n",
    "\n",
    "While this is not a perfect comparison with our other model types, it is likely that we will wish to have our final model to eventually engage in this sort of continuous learning and it will give us a better idea of how our model compares than trying to predict a year ahead using only the training data."
   ]
  },
  {
   "cell_type": "code",
   "execution_count": 51,
   "metadata": {},
   "outputs": [],
   "source": [
    "# Fit models and generate predictions\n",
    "def continuous_var(train, test, lags = 7, criterium = 'aic'):\n",
    "    # predictions array\n",
    "    preds = []\n",
    "    # fit first model and get predictions\n",
    "    model = VAR(train, freq='D')\n",
    "    var_model = model.fit(maxlags=lags, # at most a lag of 2 weeks\n",
    "                          ic=criterium)\n",
    "    preds.append(var_model.forecast(train.values, 1))\n",
    "    # loop through test, appending to train & fitting + predicting\n",
    "    for i in range(0, len(test)-1):\n",
    "        train = train.append(test.loc[test.index[i],:])\n",
    "        model = VAR(train, freq='D')\n",
    "        var_model = model.fit(maxlags=lags, # at most a lag of 2 weeks\n",
    "                         ic=criterium)\n",
    "        preds.append(var_model.forecast(train.values, 1))\n",
    "    return preds"
   ]
  },
  {
   "cell_type": "code",
   "execution_count": 52,
   "metadata": {},
   "outputs": [],
   "source": [
    "# generate prediction\n",
    "var_preds = continuous_var(train, test)"
   ]
  },
  {
   "cell_type": "code",
   "execution_count": 54,
   "metadata": {},
   "outputs": [
    {
     "data": {
      "text/html": [
       "<div>\n",
       "<style scoped>\n",
       "    .dataframe tbody tr th:only-of-type {\n",
       "        vertical-align: middle;\n",
       "    }\n",
       "\n",
       "    .dataframe tbody tr th {\n",
       "        vertical-align: top;\n",
       "    }\n",
       "\n",
       "    .dataframe thead th {\n",
       "        text-align: right;\n",
       "    }\n",
       "</style>\n",
       "<table border=\"1\" class=\"dataframe\">\n",
       "  <thead>\n",
       "    <tr style=\"text-align: right;\">\n",
       "      <th></th>\n",
       "      <th>t_price_0</th>\n",
       "      <th>t_price_1</th>\n",
       "      <th>t_price_2</th>\n",
       "      <th>t_price_3</th>\n",
       "      <th>t_price_4</th>\n",
       "      <th>t_price_5</th>\n",
       "      <th>t_price_6</th>\n",
       "      <th>t_price_7</th>\n",
       "      <th>t_price_8</th>\n",
       "      <th>t_price_9</th>\n",
       "      <th>...</th>\n",
       "      <th>t_price_14</th>\n",
       "      <th>t_price_15</th>\n",
       "      <th>t_price_16</th>\n",
       "      <th>t_price_17</th>\n",
       "      <th>t_price_18</th>\n",
       "      <th>t_price_19</th>\n",
       "      <th>t_price_20</th>\n",
       "      <th>t_price_21</th>\n",
       "      <th>t_price_22</th>\n",
       "      <th>t_price_23</th>\n",
       "    </tr>\n",
       "    <tr>\n",
       "      <th>date</th>\n",
       "      <th></th>\n",
       "      <th></th>\n",
       "      <th></th>\n",
       "      <th></th>\n",
       "      <th></th>\n",
       "      <th></th>\n",
       "      <th></th>\n",
       "      <th></th>\n",
       "      <th></th>\n",
       "      <th></th>\n",
       "      <th></th>\n",
       "      <th></th>\n",
       "      <th></th>\n",
       "      <th></th>\n",
       "      <th></th>\n",
       "      <th></th>\n",
       "      <th></th>\n",
       "      <th></th>\n",
       "      <th></th>\n",
       "      <th></th>\n",
       "      <th></th>\n",
       "    </tr>\n",
       "  </thead>\n",
       "  <tbody>\n",
       "    <tr>\n",
       "      <th>2017-12-31</th>\n",
       "      <td>16.053193</td>\n",
       "      <td>11.111584</td>\n",
       "      <td>6.494680</td>\n",
       "      <td>5.479449</td>\n",
       "      <td>3.607921</td>\n",
       "      <td>5.05233</td>\n",
       "      <td>10.462369</td>\n",
       "      <td>17.460717</td>\n",
       "      <td>23.250336</td>\n",
       "      <td>27.475443</td>\n",
       "      <td>...</td>\n",
       "      <td>29.567304</td>\n",
       "      <td>28.121585</td>\n",
       "      <td>29.059949</td>\n",
       "      <td>34.148786</td>\n",
       "      <td>44.396321</td>\n",
       "      <td>51.171615</td>\n",
       "      <td>53.004556</td>\n",
       "      <td>50.472411</td>\n",
       "      <td>43.262861</td>\n",
       "      <td>36.884362</td>\n",
       "    </tr>\n",
       "    <tr>\n",
       "      <th>2018-01-01</th>\n",
       "      <td>21.619322</td>\n",
       "      <td>15.886060</td>\n",
       "      <td>11.427035</td>\n",
       "      <td>9.757018</td>\n",
       "      <td>9.684822</td>\n",
       "      <td>13.09689</td>\n",
       "      <td>23.469110</td>\n",
       "      <td>34.782532</td>\n",
       "      <td>40.002809</td>\n",
       "      <td>40.554539</td>\n",
       "      <td>...</td>\n",
       "      <td>36.537260</td>\n",
       "      <td>35.589703</td>\n",
       "      <td>36.523356</td>\n",
       "      <td>43.063786</td>\n",
       "      <td>52.955654</td>\n",
       "      <td>54.370433</td>\n",
       "      <td>50.793200</td>\n",
       "      <td>49.463915</td>\n",
       "      <td>46.497647</td>\n",
       "      <td>38.696741</td>\n",
       "    </tr>\n",
       "  </tbody>\n",
       "</table>\n",
       "<p>2 rows × 24 columns</p>\n",
       "</div>"
      ],
      "text/plain": [
       "            t_price_0  t_price_1  t_price_2  t_price_3  t_price_4  t_price_5  \\\n",
       "date                                                                           \n",
       "2017-12-31  16.053193  11.111584   6.494680   5.479449   3.607921    5.05233   \n",
       "2018-01-01  21.619322  15.886060  11.427035   9.757018   9.684822   13.09689   \n",
       "\n",
       "            t_price_6  t_price_7  t_price_8  t_price_9  ...  t_price_14  \\\n",
       "date                                                    ...               \n",
       "2017-12-31  10.462369  17.460717  23.250336  27.475443  ...   29.567304   \n",
       "2018-01-01  23.469110  34.782532  40.002809  40.554539  ...   36.537260   \n",
       "\n",
       "            t_price_15  t_price_16  t_price_17  t_price_18  t_price_19  \\\n",
       "date                                                                     \n",
       "2017-12-31   28.121585   29.059949   34.148786   44.396321   51.171615   \n",
       "2018-01-01   35.589703   36.523356   43.063786   52.955654   54.370433   \n",
       "\n",
       "            t_price_20  t_price_21  t_price_22  t_price_23  \n",
       "date                                                        \n",
       "2017-12-31   53.004556   50.472411   43.262861   36.884362  \n",
       "2018-01-01   50.793200   49.463915   46.497647   38.696741  \n",
       "\n",
       "[2 rows x 24 columns]"
      ]
     },
     "execution_count": 54,
     "metadata": {},
     "output_type": "execute_result"
    }
   ],
   "source": [
    "# predictions were nested too heavily, fix\n",
    "var_preds_fixed = [var_preds[i][0] for i in range(len(var_preds))]\n",
    "\n",
    "# convert to dataframe\n",
    "var_preds_df = pd.DataFrame(var_preds_fixed, \n",
    "                            columns=test.columns,\n",
    "                            index=test.index)\n",
    "var_preds_df.head(2)"
   ]
  },
  {
   "cell_type": "code",
   "execution_count": 56,
   "metadata": {},
   "outputs": [
    {
     "data": {
      "text/html": [
       "<div>\n",
       "<style scoped>\n",
       "    .dataframe tbody tr th:only-of-type {\n",
       "        vertical-align: middle;\n",
       "    }\n",
       "\n",
       "    .dataframe tbody tr th {\n",
       "        vertical-align: top;\n",
       "    }\n",
       "\n",
       "    .dataframe thead th {\n",
       "        text-align: right;\n",
       "    }\n",
       "</style>\n",
       "<table border=\"1\" class=\"dataframe\">\n",
       "  <thead>\n",
       "    <tr style=\"text-align: right;\">\n",
       "      <th></th>\n",
       "      <th>count</th>\n",
       "      <th>mean</th>\n",
       "      <th>std</th>\n",
       "      <th>min</th>\n",
       "      <th>25%</th>\n",
       "      <th>50%</th>\n",
       "      <th>75%</th>\n",
       "      <th>max</th>\n",
       "    </tr>\n",
       "  </thead>\n",
       "  <tbody>\n",
       "    <tr>\n",
       "      <th>var_test_rmse</th>\n",
       "      <td>24.0</td>\n",
       "      <td>5.575370</td>\n",
       "      <td>0.929462</td>\n",
       "      <td>3.591614</td>\n",
       "      <td>5.098437</td>\n",
       "      <td>5.706196</td>\n",
       "      <td>6.413745</td>\n",
       "      <td>6.684455</td>\n",
       "    </tr>\n",
       "    <tr>\n",
       "      <th>var_test_r2</th>\n",
       "      <td>24.0</td>\n",
       "      <td>0.729843</td>\n",
       "      <td>0.109217</td>\n",
       "      <td>0.537102</td>\n",
       "      <td>0.695741</td>\n",
       "      <td>0.727999</td>\n",
       "      <td>0.819664</td>\n",
       "      <td>0.888508</td>\n",
       "    </tr>\n",
       "  </tbody>\n",
       "</table>\n",
       "</div>"
      ],
      "text/plain": [
       "               count      mean       std       min       25%       50%  \\\n",
       "var_test_rmse   24.0  5.575370  0.929462  3.591614  5.098437  5.706196   \n",
       "var_test_r2     24.0  0.729843  0.109217  0.537102  0.695741  0.727999   \n",
       "\n",
       "                    75%       max  \n",
       "var_test_rmse  6.413745  6.684455  \n",
       "var_test_r2    0.819664  0.888508  "
      ]
     },
     "execution_count": 56,
     "metadata": {},
     "output_type": "execute_result"
    }
   ],
   "source": [
    "# Get metrics and view results\n",
    "var_metrics = reg_metrics(test, var_preds_df, 'var_')\n",
    "var_metrics.describe().T"
   ]
  },
  {
   "cell_type": "markdown",
   "metadata": {},
   "source": [
    "This model is comprable to our SVR model as the best so far. Its mean test rmse and r-squared values are superior to the SVR model, however, the spread in those values is higher so it seems to be doing very well at predicting certain hours and more poorly at predicting others. We will investigate further in our combined model analyis notebook."
   ]
  },
  {
   "cell_type": "code",
   "execution_count": 60,
   "metadata": {},
   "outputs": [
    {
     "data": {
      "text/html": [
       "<div>\n",
       "<style scoped>\n",
       "    .dataframe tbody tr th:only-of-type {\n",
       "        vertical-align: middle;\n",
       "    }\n",
       "\n",
       "    .dataframe tbody tr th {\n",
       "        vertical-align: top;\n",
       "    }\n",
       "\n",
       "    .dataframe thead th {\n",
       "        text-align: right;\n",
       "    }\n",
       "</style>\n",
       "<table border=\"1\" class=\"dataframe\">\n",
       "  <thead>\n",
       "    <tr style=\"text-align: right;\">\n",
       "      <th></th>\n",
       "      <th>price_actual</th>\n",
       "      <th>price_day_ahead</th>\n",
       "      <th>var</th>\n",
       "    </tr>\n",
       "    <tr>\n",
       "      <th>time</th>\n",
       "      <th></th>\n",
       "      <th></th>\n",
       "      <th></th>\n",
       "    </tr>\n",
       "  </thead>\n",
       "  <tbody>\n",
       "    <tr>\n",
       "      <th>2018-01-01 00:00:00+00:00</th>\n",
       "      <td>20.76</td>\n",
       "      <td>6.74</td>\n",
       "      <td>16.053193</td>\n",
       "    </tr>\n",
       "    <tr>\n",
       "      <th>2018-01-01 01:00:00+00:00</th>\n",
       "      <td>19.02</td>\n",
       "      <td>4.74</td>\n",
       "      <td>11.111584</td>\n",
       "    </tr>\n",
       "  </tbody>\n",
       "</table>\n",
       "</div>"
      ],
      "text/plain": [
       "                           price_actual  price_day_ahead        var\n",
       "time                                                               \n",
       "2018-01-01 00:00:00+00:00         20.76             6.74  16.053193\n",
       "2018-01-01 01:00:00+00:00         19.02             4.74  11.111584"
      ]
     },
     "execution_count": 60,
     "metadata": {},
     "output_type": "execute_result"
    }
   ],
   "source": [
    "# Append predictions to pred df\n",
    "pred_df = append_preds(var_preds_fixed, pred_df, 'var')\n",
    "pred_df.head(2)"
   ]
  },
  {
   "cell_type": "markdown",
   "metadata": {},
   "source": [
    "### VARMAX Model"
   ]
  },
  {
   "cell_type": "code",
   "execution_count": 71,
   "metadata": {},
   "outputs": [],
   "source": [
    "# Create exogenous variables\n",
    "# since past prices are automatically part of a VARMAX model\n",
    "# we will include oil price, and load forecast and wind forcast \n",
    "# as our exogenous variables\n",
    "\n",
    "# get prediction columns\n",
    "exog_cols = [col for col in df.columns if col.startswith('t_pred')]\n",
    "exog_cols.append('oil_price')\n",
    "# exogeneous df\n",
    "exog = df[exog_cols]\n",
    "# train test split\n",
    "exog_train, exog_test = train_test_split(exog, shuffle=False)"
   ]
  },
  {
   "cell_type": "code",
   "execution_count": null,
   "metadata": {},
   "outputs": [
    {
     "name": "stderr",
     "output_type": "stream",
     "text": [
      "/Users/magnusbigelow/Applications/anaconda3/lib/python3.7/site-packages/statsmodels/tsa/base/tsa_model.py:162: ValueWarning: No frequency information was provided, so inferred frequency D will be used.\n",
      "  % freq, ValueWarning)\n"
     ]
    }
   ],
   "source": [
    "# Instantiate a VARMAX model, use 7 day lag, no moving average\n",
    "model = VARMAX(endog=train, exog=exog_train, order=(7,0))\n",
    "\n",
    "# Fit our model and use AIC\n",
    "varmax_model = model.fit(ic='aic', maxiter=1000)  \n",
    "\n",
    "# What is the order of our autoregressive model? \n",
    "varmx_model.k_ar"
   ]
  },
  {
   "cell_type": "code",
   "execution_count": null,
   "metadata": {},
   "outputs": [],
   "source": []
  }
 ],
 "metadata": {
  "kernelspec": {
   "display_name": "Python 3",
   "language": "python",
   "name": "python3"
  },
  "language_info": {
   "codemirror_mode": {
    "name": "ipython",
    "version": 3
   },
   "file_extension": ".py",
   "mimetype": "text/x-python",
   "name": "python",
   "nbconvert_exporter": "python",
   "pygments_lexer": "ipython3",
   "version": "3.7.6"
  }
 },
 "nbformat": 4,
 "nbformat_minor": 4
}
