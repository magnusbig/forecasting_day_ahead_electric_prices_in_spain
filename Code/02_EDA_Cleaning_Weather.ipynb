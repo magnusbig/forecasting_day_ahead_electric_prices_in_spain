{
 "cells": [
  {
   "cell_type": "markdown",
   "metadata": {},
   "source": [
    "# EDA & Cleaning - Weather"
   ]
  },
  {
   "cell_type": "markdown",
   "metadata": {},
   "source": [
    "EDA and cleaning of Spain Weather data. \n",
    "\n",
    "**Ongoing**\n",
    "\n",
    "[Source](https://www.kaggle.com/nicholasjhana/energy-consumption-generation-prices-and-weather)"
   ]
  },
  {
   "cell_type": "markdown",
   "metadata": {},
   "source": [
    "## Contents"
   ]
  },
  {
   "cell_type": "markdown",
   "metadata": {},
   "source": [
    "- [Imports](#Imports)\n",
    "- [Initial Look](#Initial-Look)\n",
    "- [Temperature](#Temperature)\n",
    "- [Duplicates](#Duplicates)"
   ]
  },
  {
   "cell_type": "markdown",
   "metadata": {},
   "source": [
    "### Imports"
   ]
  },
  {
   "cell_type": "code",
   "execution_count": 1,
   "metadata": {},
   "outputs": [],
   "source": [
    "# General Imports\n",
    "import pandas as pd\n",
    "import numpy as np\n",
    "\n",
    "# Visualization\n",
    "import seaborn as sns\n",
    "import matplotlib.pyplot as plt\n",
    "import chart_studio.plotly as py \n",
    "import plotly.graph_objs as go \n",
    "import plotly.express as px\n",
    "\n",
    "# Missing Data Imports\n",
    "import missingno as msno\n",
    "from sklearn.experimental import enable_iterative_imputer\n",
    "from sklearn.impute import IterativeImputer\n",
    "\n",
    "# Time series imports\n",
    "from statsmodels.tsa.seasonal import seasonal_decompose\n",
    "from datetime import timedelta\n",
    "\n",
    "# EDA Import\n",
    "from EDA import EDA"
   ]
  },
  {
   "cell_type": "markdown",
   "metadata": {},
   "source": [
    "### Initial Look"
   ]
  },
  {
   "cell_type": "code",
   "execution_count": 2,
   "metadata": {},
   "outputs": [
    {
     "data": {
      "text/html": [
       "<div>\n",
       "<style scoped>\n",
       "    .dataframe tbody tr th:only-of-type {\n",
       "        vertical-align: middle;\n",
       "    }\n",
       "\n",
       "    .dataframe tbody tr th {\n",
       "        vertical-align: top;\n",
       "    }\n",
       "\n",
       "    .dataframe thead th {\n",
       "        text-align: right;\n",
       "    }\n",
       "</style>\n",
       "<table border=\"1\" class=\"dataframe\">\n",
       "  <thead>\n",
       "    <tr style=\"text-align: right;\">\n",
       "      <th></th>\n",
       "      <th>dt_iso</th>\n",
       "      <th>city_name</th>\n",
       "      <th>temp</th>\n",
       "      <th>temp_min</th>\n",
       "      <th>temp_max</th>\n",
       "      <th>pressure</th>\n",
       "      <th>humidity</th>\n",
       "      <th>wind_speed</th>\n",
       "      <th>wind_deg</th>\n",
       "      <th>rain_1h</th>\n",
       "      <th>rain_3h</th>\n",
       "      <th>snow_3h</th>\n",
       "      <th>clouds_all</th>\n",
       "      <th>weather_id</th>\n",
       "      <th>weather_main</th>\n",
       "      <th>weather_description</th>\n",
       "      <th>weather_icon</th>\n",
       "    </tr>\n",
       "  </thead>\n",
       "  <tbody>\n",
       "    <tr>\n",
       "      <th>0</th>\n",
       "      <td>2015-01-01 00:00:00+01:00</td>\n",
       "      <td>Valencia</td>\n",
       "      <td>270.475</td>\n",
       "      <td>270.475</td>\n",
       "      <td>270.475</td>\n",
       "      <td>1001</td>\n",
       "      <td>77</td>\n",
       "      <td>1</td>\n",
       "      <td>62</td>\n",
       "      <td>0.0</td>\n",
       "      <td>0.0</td>\n",
       "      <td>0.0</td>\n",
       "      <td>0</td>\n",
       "      <td>800</td>\n",
       "      <td>clear</td>\n",
       "      <td>sky is clear</td>\n",
       "      <td>01n</td>\n",
       "    </tr>\n",
       "    <tr>\n",
       "      <th>1</th>\n",
       "      <td>2015-01-01 01:00:00+01:00</td>\n",
       "      <td>Valencia</td>\n",
       "      <td>270.475</td>\n",
       "      <td>270.475</td>\n",
       "      <td>270.475</td>\n",
       "      <td>1001</td>\n",
       "      <td>77</td>\n",
       "      <td>1</td>\n",
       "      <td>62</td>\n",
       "      <td>0.0</td>\n",
       "      <td>0.0</td>\n",
       "      <td>0.0</td>\n",
       "      <td>0</td>\n",
       "      <td>800</td>\n",
       "      <td>clear</td>\n",
       "      <td>sky is clear</td>\n",
       "      <td>01n</td>\n",
       "    </tr>\n",
       "    <tr>\n",
       "      <th>2</th>\n",
       "      <td>2015-01-01 02:00:00+01:00</td>\n",
       "      <td>Valencia</td>\n",
       "      <td>269.686</td>\n",
       "      <td>269.686</td>\n",
       "      <td>269.686</td>\n",
       "      <td>1002</td>\n",
       "      <td>78</td>\n",
       "      <td>0</td>\n",
       "      <td>23</td>\n",
       "      <td>0.0</td>\n",
       "      <td>0.0</td>\n",
       "      <td>0.0</td>\n",
       "      <td>0</td>\n",
       "      <td>800</td>\n",
       "      <td>clear</td>\n",
       "      <td>sky is clear</td>\n",
       "      <td>01n</td>\n",
       "    </tr>\n",
       "    <tr>\n",
       "      <th>3</th>\n",
       "      <td>2015-01-01 03:00:00+01:00</td>\n",
       "      <td>Valencia</td>\n",
       "      <td>269.686</td>\n",
       "      <td>269.686</td>\n",
       "      <td>269.686</td>\n",
       "      <td>1002</td>\n",
       "      <td>78</td>\n",
       "      <td>0</td>\n",
       "      <td>23</td>\n",
       "      <td>0.0</td>\n",
       "      <td>0.0</td>\n",
       "      <td>0.0</td>\n",
       "      <td>0</td>\n",
       "      <td>800</td>\n",
       "      <td>clear</td>\n",
       "      <td>sky is clear</td>\n",
       "      <td>01n</td>\n",
       "    </tr>\n",
       "    <tr>\n",
       "      <th>4</th>\n",
       "      <td>2015-01-01 04:00:00+01:00</td>\n",
       "      <td>Valencia</td>\n",
       "      <td>269.686</td>\n",
       "      <td>269.686</td>\n",
       "      <td>269.686</td>\n",
       "      <td>1002</td>\n",
       "      <td>78</td>\n",
       "      <td>0</td>\n",
       "      <td>23</td>\n",
       "      <td>0.0</td>\n",
       "      <td>0.0</td>\n",
       "      <td>0.0</td>\n",
       "      <td>0</td>\n",
       "      <td>800</td>\n",
       "      <td>clear</td>\n",
       "      <td>sky is clear</td>\n",
       "      <td>01n</td>\n",
       "    </tr>\n",
       "  </tbody>\n",
       "</table>\n",
       "</div>"
      ],
      "text/plain": [
       "                      dt_iso city_name     temp  temp_min  temp_max  pressure  \\\n",
       "0  2015-01-01 00:00:00+01:00  Valencia  270.475   270.475   270.475      1001   \n",
       "1  2015-01-01 01:00:00+01:00  Valencia  270.475   270.475   270.475      1001   \n",
       "2  2015-01-01 02:00:00+01:00  Valencia  269.686   269.686   269.686      1002   \n",
       "3  2015-01-01 03:00:00+01:00  Valencia  269.686   269.686   269.686      1002   \n",
       "4  2015-01-01 04:00:00+01:00  Valencia  269.686   269.686   269.686      1002   \n",
       "\n",
       "   humidity  wind_speed  wind_deg  rain_1h  rain_3h  snow_3h  clouds_all  \\\n",
       "0        77           1        62      0.0      0.0      0.0           0   \n",
       "1        77           1        62      0.0      0.0      0.0           0   \n",
       "2        78           0        23      0.0      0.0      0.0           0   \n",
       "3        78           0        23      0.0      0.0      0.0           0   \n",
       "4        78           0        23      0.0      0.0      0.0           0   \n",
       "\n",
       "   weather_id weather_main weather_description weather_icon  \n",
       "0         800        clear        sky is clear          01n  \n",
       "1         800        clear        sky is clear          01n  \n",
       "2         800        clear        sky is clear          01n  \n",
       "3         800        clear        sky is clear          01n  \n",
       "4         800        clear        sky is clear          01n  "
      ]
     },
     "execution_count": 2,
     "metadata": {},
     "output_type": "execute_result"
    }
   ],
   "source": [
    "weather = pd.read_csv('../Data/energy-consumption-generation-prices-and-weather/weather_features.csv')\n",
    "\n",
    "weather.head()"
   ]
  },
  {
   "cell_type": "code",
   "execution_count": 3,
   "metadata": {},
   "outputs": [
    {
     "data": {
      "text/plain": [
       "(178396, 17)"
      ]
     },
     "execution_count": 3,
     "metadata": {},
     "output_type": "execute_result"
    }
   ],
   "source": [
    "weather.shape"
   ]
  },
  {
   "cell_type": "code",
   "execution_count": 4,
   "metadata": {},
   "outputs": [
    {
     "data": {
      "text/plain": [
       "dt_iso                 0\n",
       "city_name              0\n",
       "temp                   0\n",
       "temp_min               0\n",
       "temp_max               0\n",
       "pressure               0\n",
       "humidity               0\n",
       "wind_speed             0\n",
       "wind_deg               0\n",
       "rain_1h                0\n",
       "rain_3h                0\n",
       "snow_3h                0\n",
       "clouds_all             0\n",
       "weather_id             0\n",
       "weather_main           0\n",
       "weather_description    0\n",
       "weather_icon           0\n",
       "dtype: int64"
      ]
     },
     "execution_count": 4,
     "metadata": {},
     "output_type": "execute_result"
    }
   ],
   "source": [
    "weather.isnull().sum()"
   ]
  },
  {
   "cell_type": "markdown",
   "metadata": {},
   "source": [
    "No missing values"
   ]
  },
  {
   "cell_type": "code",
   "execution_count": 5,
   "metadata": {},
   "outputs": [
    {
     "data": {
      "text/plain": [
       "dt_iso                  object\n",
       "city_name               object\n",
       "temp                   float64\n",
       "temp_min               float64\n",
       "temp_max               float64\n",
       "pressure                 int64\n",
       "humidity                 int64\n",
       "wind_speed               int64\n",
       "wind_deg                 int64\n",
       "rain_1h                float64\n",
       "rain_3h                float64\n",
       "snow_3h                float64\n",
       "clouds_all               int64\n",
       "weather_id               int64\n",
       "weather_main            object\n",
       "weather_description     object\n",
       "weather_icon            object\n",
       "dtype: object"
      ]
     },
     "execution_count": 5,
     "metadata": {},
     "output_type": "execute_result"
    }
   ],
   "source": [
    "# data types\n",
    "weather.dtypes"
   ]
  },
  {
   "cell_type": "code",
   "execution_count": 6,
   "metadata": {},
   "outputs": [
    {
     "data": {
      "text/plain": [
       "array(['Valencia', 'Madrid', 'Bilbao', ' Barcelona', 'Seville'],\n",
       "      dtype=object)"
      ]
     },
     "execution_count": 6,
     "metadata": {},
     "output_type": "execute_result"
    }
   ],
   "source": [
    "# which cities\n",
    "weather['city_name'].unique()"
   ]
  },
  {
   "cell_type": "markdown",
   "metadata": {},
   "source": [
    "We have data from 5 cities, later we will have to consider how to merge them such that they are all on the same time index."
   ]
  },
  {
   "cell_type": "code",
   "execution_count": 7,
   "metadata": {},
   "outputs": [],
   "source": [
    "# Make time columns datetime format\n",
    "# utc=True to get rid of +01:00's and allow for use \n",
    "# as datetime index, but add back the hour to get consistent Spain time\n",
    "weather['time'] = pd.to_datetime(weather['dt_iso'], utc=True)+timedelta(hours=1)"
   ]
  },
  {
   "cell_type": "code",
   "execution_count": 8,
   "metadata": {},
   "outputs": [
    {
     "data": {
      "text/plain": [
       "35064"
      ]
     },
     "execution_count": 8,
     "metadata": {},
     "output_type": "execute_result"
    }
   ],
   "source": [
    "# are our time's all unique?\n",
    "weather['time'].nunique()"
   ]
  },
  {
   "cell_type": "markdown",
   "metadata": {},
   "source": [
    "Good we have the same number of unique times as we did in our energy data."
   ]
  },
  {
   "cell_type": "code",
   "execution_count": 9,
   "metadata": {},
   "outputs": [
    {
     "data": {
      "text/html": [
       "<div>\n",
       "<style scoped>\n",
       "    .dataframe tbody tr th:only-of-type {\n",
       "        vertical-align: middle;\n",
       "    }\n",
       "\n",
       "    .dataframe tbody tr th {\n",
       "        vertical-align: top;\n",
       "    }\n",
       "\n",
       "    .dataframe thead th {\n",
       "        text-align: right;\n",
       "    }\n",
       "</style>\n",
       "<table border=\"1\" class=\"dataframe\">\n",
       "  <thead>\n",
       "    <tr style=\"text-align: right;\">\n",
       "      <th></th>\n",
       "      <th>dt_iso</th>\n",
       "      <th>city_name</th>\n",
       "      <th>temp</th>\n",
       "      <th>temp_min</th>\n",
       "      <th>temp_max</th>\n",
       "      <th>pressure</th>\n",
       "      <th>humidity</th>\n",
       "      <th>wind_speed</th>\n",
       "      <th>wind_deg</th>\n",
       "      <th>rain_1h</th>\n",
       "      <th>rain_3h</th>\n",
       "      <th>snow_3h</th>\n",
       "      <th>clouds_all</th>\n",
       "      <th>weather_id</th>\n",
       "      <th>weather_main</th>\n",
       "      <th>weather_description</th>\n",
       "      <th>weather_icon</th>\n",
       "    </tr>\n",
       "    <tr>\n",
       "      <th>time</th>\n",
       "      <th></th>\n",
       "      <th></th>\n",
       "      <th></th>\n",
       "      <th></th>\n",
       "      <th></th>\n",
       "      <th></th>\n",
       "      <th></th>\n",
       "      <th></th>\n",
       "      <th></th>\n",
       "      <th></th>\n",
       "      <th></th>\n",
       "      <th></th>\n",
       "      <th></th>\n",
       "      <th></th>\n",
       "      <th></th>\n",
       "      <th></th>\n",
       "      <th></th>\n",
       "    </tr>\n",
       "  </thead>\n",
       "  <tbody>\n",
       "    <tr>\n",
       "      <th>2015-01-01 00:00:00+00:00</th>\n",
       "      <td>2015-01-01 00:00:00+01:00</td>\n",
       "      <td>Valencia</td>\n",
       "      <td>270.475</td>\n",
       "      <td>270.475</td>\n",
       "      <td>270.475</td>\n",
       "      <td>1001</td>\n",
       "      <td>77</td>\n",
       "      <td>1</td>\n",
       "      <td>62</td>\n",
       "      <td>0.0</td>\n",
       "      <td>0.0</td>\n",
       "      <td>0.0</td>\n",
       "      <td>0</td>\n",
       "      <td>800</td>\n",
       "      <td>clear</td>\n",
       "      <td>sky is clear</td>\n",
       "      <td>01n</td>\n",
       "    </tr>\n",
       "    <tr>\n",
       "      <th>2015-01-01 01:00:00+00:00</th>\n",
       "      <td>2015-01-01 01:00:00+01:00</td>\n",
       "      <td>Valencia</td>\n",
       "      <td>270.475</td>\n",
       "      <td>270.475</td>\n",
       "      <td>270.475</td>\n",
       "      <td>1001</td>\n",
       "      <td>77</td>\n",
       "      <td>1</td>\n",
       "      <td>62</td>\n",
       "      <td>0.0</td>\n",
       "      <td>0.0</td>\n",
       "      <td>0.0</td>\n",
       "      <td>0</td>\n",
       "      <td>800</td>\n",
       "      <td>clear</td>\n",
       "      <td>sky is clear</td>\n",
       "      <td>01n</td>\n",
       "    </tr>\n",
       "    <tr>\n",
       "      <th>2015-01-01 02:00:00+00:00</th>\n",
       "      <td>2015-01-01 02:00:00+01:00</td>\n",
       "      <td>Valencia</td>\n",
       "      <td>269.686</td>\n",
       "      <td>269.686</td>\n",
       "      <td>269.686</td>\n",
       "      <td>1002</td>\n",
       "      <td>78</td>\n",
       "      <td>0</td>\n",
       "      <td>23</td>\n",
       "      <td>0.0</td>\n",
       "      <td>0.0</td>\n",
       "      <td>0.0</td>\n",
       "      <td>0</td>\n",
       "      <td>800</td>\n",
       "      <td>clear</td>\n",
       "      <td>sky is clear</td>\n",
       "      <td>01n</td>\n",
       "    </tr>\n",
       "    <tr>\n",
       "      <th>2015-01-01 03:00:00+00:00</th>\n",
       "      <td>2015-01-01 03:00:00+01:00</td>\n",
       "      <td>Valencia</td>\n",
       "      <td>269.686</td>\n",
       "      <td>269.686</td>\n",
       "      <td>269.686</td>\n",
       "      <td>1002</td>\n",
       "      <td>78</td>\n",
       "      <td>0</td>\n",
       "      <td>23</td>\n",
       "      <td>0.0</td>\n",
       "      <td>0.0</td>\n",
       "      <td>0.0</td>\n",
       "      <td>0</td>\n",
       "      <td>800</td>\n",
       "      <td>clear</td>\n",
       "      <td>sky is clear</td>\n",
       "      <td>01n</td>\n",
       "    </tr>\n",
       "    <tr>\n",
       "      <th>2015-01-01 04:00:00+00:00</th>\n",
       "      <td>2015-01-01 04:00:00+01:00</td>\n",
       "      <td>Valencia</td>\n",
       "      <td>269.686</td>\n",
       "      <td>269.686</td>\n",
       "      <td>269.686</td>\n",
       "      <td>1002</td>\n",
       "      <td>78</td>\n",
       "      <td>0</td>\n",
       "      <td>23</td>\n",
       "      <td>0.0</td>\n",
       "      <td>0.0</td>\n",
       "      <td>0.0</td>\n",
       "      <td>0</td>\n",
       "      <td>800</td>\n",
       "      <td>clear</td>\n",
       "      <td>sky is clear</td>\n",
       "      <td>01n</td>\n",
       "    </tr>\n",
       "  </tbody>\n",
       "</table>\n",
       "</div>"
      ],
      "text/plain": [
       "                                              dt_iso city_name     temp  \\\n",
       "time                                                                      \n",
       "2015-01-01 00:00:00+00:00  2015-01-01 00:00:00+01:00  Valencia  270.475   \n",
       "2015-01-01 01:00:00+00:00  2015-01-01 01:00:00+01:00  Valencia  270.475   \n",
       "2015-01-01 02:00:00+00:00  2015-01-01 02:00:00+01:00  Valencia  269.686   \n",
       "2015-01-01 03:00:00+00:00  2015-01-01 03:00:00+01:00  Valencia  269.686   \n",
       "2015-01-01 04:00:00+00:00  2015-01-01 04:00:00+01:00  Valencia  269.686   \n",
       "\n",
       "                           temp_min  temp_max  pressure  humidity  wind_speed  \\\n",
       "time                                                                            \n",
       "2015-01-01 00:00:00+00:00   270.475   270.475      1001        77           1   \n",
       "2015-01-01 01:00:00+00:00   270.475   270.475      1001        77           1   \n",
       "2015-01-01 02:00:00+00:00   269.686   269.686      1002        78           0   \n",
       "2015-01-01 03:00:00+00:00   269.686   269.686      1002        78           0   \n",
       "2015-01-01 04:00:00+00:00   269.686   269.686      1002        78           0   \n",
       "\n",
       "                           wind_deg  rain_1h  rain_3h  snow_3h  clouds_all  \\\n",
       "time                                                                         \n",
       "2015-01-01 00:00:00+00:00        62      0.0      0.0      0.0           0   \n",
       "2015-01-01 01:00:00+00:00        62      0.0      0.0      0.0           0   \n",
       "2015-01-01 02:00:00+00:00        23      0.0      0.0      0.0           0   \n",
       "2015-01-01 03:00:00+00:00        23      0.0      0.0      0.0           0   \n",
       "2015-01-01 04:00:00+00:00        23      0.0      0.0      0.0           0   \n",
       "\n",
       "                           weather_id weather_main weather_description  \\\n",
       "time                                                                     \n",
       "2015-01-01 00:00:00+00:00         800        clear        sky is clear   \n",
       "2015-01-01 01:00:00+00:00         800        clear        sky is clear   \n",
       "2015-01-01 02:00:00+00:00         800        clear        sky is clear   \n",
       "2015-01-01 03:00:00+00:00         800        clear        sky is clear   \n",
       "2015-01-01 04:00:00+00:00         800        clear        sky is clear   \n",
       "\n",
       "                          weather_icon  \n",
       "time                                    \n",
       "2015-01-01 00:00:00+00:00          01n  \n",
       "2015-01-01 01:00:00+00:00          01n  \n",
       "2015-01-01 02:00:00+00:00          01n  \n",
       "2015-01-01 03:00:00+00:00          01n  \n",
       "2015-01-01 04:00:00+00:00          01n  "
      ]
     },
     "execution_count": 9,
     "metadata": {},
     "output_type": "execute_result"
    }
   ],
   "source": [
    "# set index\n",
    "weather.set_index('time', inplace=True)\n",
    "\n",
    "weather.head()"
   ]
  },
  {
   "cell_type": "code",
   "execution_count": 10,
   "metadata": {},
   "outputs": [
    {
     "data": {
      "text/plain": [
       "{'temp': {'upper outliers': 789, 'lower outliers': 186},\n",
       " 'temp_min': {'upper outliers': 998, 'lower outliers': 137},\n",
       " 'temp_max': {'upper outliers': 887, 'lower outliers': 149},\n",
       " 'pressure': {'upper outliers': 42, 'lower outliers': 0},\n",
       " 'humidity': {'upper outliers': 0, 'lower outliers': 350},\n",
       " 'wind_speed': {'upper outliers': 4552, 'lower outliers': 0},\n",
       " 'wind_deg': {'upper outliers': 0, 'lower outliers': 0},\n",
       " 'rain_1h': {'upper outliers': 1396, 'lower outliers': 0},\n",
       " 'rain_3h': {'upper outliers': 994, 'lower outliers': 0},\n",
       " 'snow_3h': {'upper outliers': 185, 'lower outliers': 0},\n",
       " 'clouds_all': {'upper outliers': 0, 'lower outliers': 0},\n",
       " 'weather_id': {'upper outliers': 0, 'lower outliers': 2765}}"
      ]
     },
     "execution_count": 10,
     "metadata": {},
     "output_type": "execute_result"
    }
   ],
   "source": [
    "# make an EDA object to check outliers\n",
    "clean = EDA(weather)\n",
    "# all columns except object columns, get 99% outliers \n",
    "clean.check_outliers(weather, weather.columns[2:14], 2.58)"
   ]
  },
  {
   "cell_type": "markdown",
   "metadata": {},
   "source": [
    "We can see that there are numerous outliers, though this is not that surprising. Especially for categories related to precipitation a mojority of the values are likely 0, so having upper outliers is expected. For other categories we need to consider that this includes data from 5 different cities and Spain is a large and varied country geographically so having some outliers is expected.  Let's start looking at the individual categories."
   ]
  },
  {
   "cell_type": "code",
   "execution_count": 11,
   "metadata": {},
   "outputs": [],
   "source": [
    "# Drop dt_iso column\n",
    "weather.drop(columns = ['dt_iso'], inplace=True)"
   ]
  },
  {
   "cell_type": "code",
   "execution_count": null,
   "metadata": {},
   "outputs": [],
   "source": []
  },
  {
   "cell_type": "markdown",
   "metadata": {},
   "source": [
    "### Temperature"
   ]
  },
  {
   "cell_type": "code",
   "execution_count": 12,
   "metadata": {},
   "outputs": [],
   "source": [
    "# Get column names\n",
    "temp_cols = ['temp', 'temp_min', 'temp_max']"
   ]
  },
  {
   "cell_type": "code",
   "execution_count": 13,
   "metadata": {},
   "outputs": [
    {
     "data": {
      "text/html": [
       "<div>\n",
       "<style scoped>\n",
       "    .dataframe tbody tr th:only-of-type {\n",
       "        vertical-align: middle;\n",
       "    }\n",
       "\n",
       "    .dataframe tbody tr th {\n",
       "        vertical-align: top;\n",
       "    }\n",
       "\n",
       "    .dataframe thead th {\n",
       "        text-align: right;\n",
       "    }\n",
       "</style>\n",
       "<table border=\"1\" class=\"dataframe\">\n",
       "  <thead>\n",
       "    <tr style=\"text-align: right;\">\n",
       "      <th></th>\n",
       "      <th>city_name</th>\n",
       "      <th>Barcelona</th>\n",
       "      <th>Bilbao</th>\n",
       "      <th>Madrid</th>\n",
       "      <th>Seville</th>\n",
       "      <th>Valencia</th>\n",
       "    </tr>\n",
       "  </thead>\n",
       "  <tbody>\n",
       "    <tr>\n",
       "      <th rowspan=\"8\" valign=\"top\">temp</th>\n",
       "      <th>count</th>\n",
       "      <td>35476.000000</td>\n",
       "      <td>35951.000000</td>\n",
       "      <td>36267.000000</td>\n",
       "      <td>35557.000000</td>\n",
       "      <td>35145.000000</td>\n",
       "    </tr>\n",
       "    <tr>\n",
       "      <th>mean</th>\n",
       "      <td>289.848248</td>\n",
       "      <td>286.378489</td>\n",
       "      <td>288.061071</td>\n",
       "      <td>293.105431</td>\n",
       "      <td>290.780780</td>\n",
       "    </tr>\n",
       "    <tr>\n",
       "      <th>std</th>\n",
       "      <td>6.712455</td>\n",
       "      <td>6.795776</td>\n",
       "      <td>9.298482</td>\n",
       "      <td>8.065712</td>\n",
       "      <td>7.231284</td>\n",
       "    </tr>\n",
       "    <tr>\n",
       "      <th>min</th>\n",
       "      <td>262.240000</td>\n",
       "      <td>266.850000</td>\n",
       "      <td>264.132000</td>\n",
       "      <td>271.050000</td>\n",
       "      <td>268.830656</td>\n",
       "    </tr>\n",
       "    <tr>\n",
       "      <th>25%</th>\n",
       "      <td>284.670000</td>\n",
       "      <td>281.390000</td>\n",
       "      <td>281.120000</td>\n",
       "      <td>287.330000</td>\n",
       "      <td>285.150000</td>\n",
       "    </tr>\n",
       "    <tr>\n",
       "      <th>50%</th>\n",
       "      <td>289.360000</td>\n",
       "      <td>286.130000</td>\n",
       "      <td>286.580000</td>\n",
       "      <td>292.340000</td>\n",
       "      <td>290.170000</td>\n",
       "    </tr>\n",
       "    <tr>\n",
       "      <th>75%</th>\n",
       "      <td>295.150000</td>\n",
       "      <td>291.020000</td>\n",
       "      <td>294.720000</td>\n",
       "      <td>298.760000</td>\n",
       "      <td>296.150000</td>\n",
       "    </tr>\n",
       "    <tr>\n",
       "      <th>max</th>\n",
       "      <td>309.150000</td>\n",
       "      <td>312.470000</td>\n",
       "      <td>313.330000</td>\n",
       "      <td>315.600000</td>\n",
       "      <td>311.150000</td>\n",
       "    </tr>\n",
       "    <tr>\n",
       "      <th rowspan=\"8\" valign=\"top\">temp_min</th>\n",
       "      <th>count</th>\n",
       "      <td>35476.000000</td>\n",
       "      <td>35951.000000</td>\n",
       "      <td>36267.000000</td>\n",
       "      <td>35557.000000</td>\n",
       "      <td>35145.000000</td>\n",
       "    </tr>\n",
       "    <tr>\n",
       "      <th>mean</th>\n",
       "      <td>288.594704</td>\n",
       "      <td>284.916661</td>\n",
       "      <td>286.824877</td>\n",
       "      <td>291.184103</td>\n",
       "      <td>290.222277</td>\n",
       "    </tr>\n",
       "    <tr>\n",
       "      <th>std</th>\n",
       "      <td>6.447358</td>\n",
       "      <td>6.820451</td>\n",
       "      <td>9.159233</td>\n",
       "      <td>8.244529</td>\n",
       "      <td>7.087512</td>\n",
       "    </tr>\n",
       "    <tr>\n",
       "      <th>min</th>\n",
       "      <td>262.240000</td>\n",
       "      <td>264.150000</td>\n",
       "      <td>264.132000</td>\n",
       "      <td>269.150000</td>\n",
       "      <td>268.830656</td>\n",
       "    </tr>\n",
       "    <tr>\n",
       "      <th>25%</th>\n",
       "      <td>284.150000</td>\n",
       "      <td>280.150000</td>\n",
       "      <td>280.150000</td>\n",
       "      <td>285.150000</td>\n",
       "      <td>285.150000</td>\n",
       "    </tr>\n",
       "    <tr>\n",
       "      <th>50%</th>\n",
       "      <td>288.150000</td>\n",
       "      <td>284.647000</td>\n",
       "      <td>285.425000</td>\n",
       "      <td>290.150000</td>\n",
       "      <td>290.150000</td>\n",
       "    </tr>\n",
       "    <tr>\n",
       "      <th>75%</th>\n",
       "      <td>293.150000</td>\n",
       "      <td>289.820000</td>\n",
       "      <td>293.150000</td>\n",
       "      <td>296.265000</td>\n",
       "      <td>295.370000</td>\n",
       "    </tr>\n",
       "    <tr>\n",
       "      <th>max</th>\n",
       "      <td>307.150000</td>\n",
       "      <td>312.040000</td>\n",
       "      <td>312.150000</td>\n",
       "      <td>315.150000</td>\n",
       "      <td>311.150000</td>\n",
       "    </tr>\n",
       "    <tr>\n",
       "      <th rowspan=\"8\" valign=\"top\">temp_max</th>\n",
       "      <th>count</th>\n",
       "      <td>35476.000000</td>\n",
       "      <td>35951.000000</td>\n",
       "      <td>36267.000000</td>\n",
       "      <td>35557.000000</td>\n",
       "      <td>35145.000000</td>\n",
       "    </tr>\n",
       "    <tr>\n",
       "      <th>mean</th>\n",
       "      <td>291.021987</td>\n",
       "      <td>288.036687</td>\n",
       "      <td>289.155600</td>\n",
       "      <td>295.962431</td>\n",
       "      <td>291.355025</td>\n",
       "    </tr>\n",
       "    <tr>\n",
       "      <th>std</th>\n",
       "      <td>7.277714</td>\n",
       "      <td>6.971775</td>\n",
       "      <td>9.647888</td>\n",
       "      <td>9.070491</td>\n",
       "      <td>7.519891</td>\n",
       "    </tr>\n",
       "    <tr>\n",
       "      <th>min</th>\n",
       "      <td>262.240000</td>\n",
       "      <td>268.978000</td>\n",
       "      <td>264.132000</td>\n",
       "      <td>272.063000</td>\n",
       "      <td>268.830656</td>\n",
       "    </tr>\n",
       "    <tr>\n",
       "      <th>25%</th>\n",
       "      <td>285.150000</td>\n",
       "      <td>283.150000</td>\n",
       "      <td>282.150000</td>\n",
       "      <td>289.150000</td>\n",
       "      <td>285.650000</td>\n",
       "    </tr>\n",
       "    <tr>\n",
       "      <th>50%</th>\n",
       "      <td>290.150000</td>\n",
       "      <td>288.150000</td>\n",
       "      <td>287.250000</td>\n",
       "      <td>295.150000</td>\n",
       "      <td>291.150000</td>\n",
       "    </tr>\n",
       "    <tr>\n",
       "      <th>75%</th>\n",
       "      <td>297.040000</td>\n",
       "      <td>292.150000</td>\n",
       "      <td>296.150000</td>\n",
       "      <td>303.150000</td>\n",
       "      <td>297.150000</td>\n",
       "    </tr>\n",
       "    <tr>\n",
       "      <th>max</th>\n",
       "      <td>315.370000</td>\n",
       "      <td>318.710000</td>\n",
       "      <td>316.480000</td>\n",
       "      <td>321.150000</td>\n",
       "      <td>314.820000</td>\n",
       "    </tr>\n",
       "  </tbody>\n",
       "</table>\n",
       "</div>"
      ],
      "text/plain": [
       "city_name          Barcelona        Bilbao        Madrid       Seville  \\\n",
       "temp     count  35476.000000  35951.000000  36267.000000  35557.000000   \n",
       "         mean     289.848248    286.378489    288.061071    293.105431   \n",
       "         std        6.712455      6.795776      9.298482      8.065712   \n",
       "         min      262.240000    266.850000    264.132000    271.050000   \n",
       "         25%      284.670000    281.390000    281.120000    287.330000   \n",
       "         50%      289.360000    286.130000    286.580000    292.340000   \n",
       "         75%      295.150000    291.020000    294.720000    298.760000   \n",
       "         max      309.150000    312.470000    313.330000    315.600000   \n",
       "temp_min count  35476.000000  35951.000000  36267.000000  35557.000000   \n",
       "         mean     288.594704    284.916661    286.824877    291.184103   \n",
       "         std        6.447358      6.820451      9.159233      8.244529   \n",
       "         min      262.240000    264.150000    264.132000    269.150000   \n",
       "         25%      284.150000    280.150000    280.150000    285.150000   \n",
       "         50%      288.150000    284.647000    285.425000    290.150000   \n",
       "         75%      293.150000    289.820000    293.150000    296.265000   \n",
       "         max      307.150000    312.040000    312.150000    315.150000   \n",
       "temp_max count  35476.000000  35951.000000  36267.000000  35557.000000   \n",
       "         mean     291.021987    288.036687    289.155600    295.962431   \n",
       "         std        7.277714      6.971775      9.647888      9.070491   \n",
       "         min      262.240000    268.978000    264.132000    272.063000   \n",
       "         25%      285.150000    283.150000    282.150000    289.150000   \n",
       "         50%      290.150000    288.150000    287.250000    295.150000   \n",
       "         75%      297.040000    292.150000    296.150000    303.150000   \n",
       "         max      315.370000    318.710000    316.480000    321.150000   \n",
       "\n",
       "city_name           Valencia  \n",
       "temp     count  35145.000000  \n",
       "         mean     290.780780  \n",
       "         std        7.231284  \n",
       "         min      268.830656  \n",
       "         25%      285.150000  \n",
       "         50%      290.170000  \n",
       "         75%      296.150000  \n",
       "         max      311.150000  \n",
       "temp_min count  35145.000000  \n",
       "         mean     290.222277  \n",
       "         std        7.087512  \n",
       "         min      268.830656  \n",
       "         25%      285.150000  \n",
       "         50%      290.150000  \n",
       "         75%      295.370000  \n",
       "         max      311.150000  \n",
       "temp_max count  35145.000000  \n",
       "         mean     291.355025  \n",
       "         std        7.519891  \n",
       "         min      268.830656  \n",
       "         25%      285.650000  \n",
       "         50%      291.150000  \n",
       "         75%      297.150000  \n",
       "         max      314.820000  "
      ]
     },
     "execution_count": 13,
     "metadata": {},
     "output_type": "execute_result"
    }
   ],
   "source": [
    "# Describe by city\n",
    "weather.groupby('city_name')[temp_cols].describe().T"
   ]
  },
  {
   "cell_type": "markdown",
   "metadata": {},
   "source": [
    "We need to note that the temperature values are in kelvins which renders a scale that we are not used to. \n",
    "\n",
    "100 degrees farenheit is approximately 311 degrees kelvin and 32 degrees farenheit is approximately 273 degrees kelvin.\n",
    "\n",
    "Given that, the highest value of 321 degrees kelvin in Seville is about 118 degrees farenheit, which while extremely hot is reasonable. The lowest value of 262 kelvin in Barcelona is about 12 degrees farenheit and is also a reasonable value, though it is warmer than I would have expected. \n",
    "\n",
    "Additionally we can see that each city does not have the same number of observations and furthermore the number of observations are all greater than the 35064 observations we have in the energy data set. Let's see if we have duplicated observations."
   ]
  },
  {
   "cell_type": "markdown",
   "metadata": {},
   "source": [
    "### Duplicates"
   ]
  },
  {
   "cell_type": "code",
   "execution_count": 19,
   "metadata": {},
   "outputs": [
    {
     "data": {
      "text/plain": [
       "8622"
      ]
     },
     "execution_count": 19,
     "metadata": {},
     "output_type": "execute_result"
    }
   ],
   "source": [
    "# how many duplicate values\n",
    "weather.duplicated(keep='first').sum()"
   ]
  },
  {
   "cell_type": "markdown",
   "metadata": {},
   "source": [
    "It seems that we have 8622 duplicated values, this is obviously an issue"
   ]
  },
  {
   "cell_type": "code",
   "execution_count": 15,
   "metadata": {},
   "outputs": [],
   "source": [
    "temp_dict = {\n",
    "    'temp' : 'Temp'\n",
    "}"
   ]
  },
  {
   "cell_type": "code",
   "execution_count": 16,
   "metadata": {},
   "outputs": [
    {
     "data": {
      "text/plain": [
       "city_name\n",
       " Barcelona    AxesSubplot(0.125,0.2;0.775x0.68)\n",
       "Bilbao        AxesSubplot(0.125,0.2;0.775x0.68)\n",
       "Madrid        AxesSubplot(0.125,0.2;0.775x0.68)\n",
       "Seville       AxesSubplot(0.125,0.2;0.775x0.68)\n",
       "Valencia      AxesSubplot(0.125,0.2;0.775x0.68)\n",
       "Name: temp, dtype: object"
      ]
     },
     "execution_count": 16,
     "metadata": {},
     "output_type": "execute_result"
    },
    {
     "data": {
      "image/png": "[encoded data removed]",
      "text/plain": [
       "<Figure size 432x288 with 1 Axes>"
      ]
     },
     "metadata": {
      "needs_background": "light"
     },
     "output_type": "display_data"
    }
   ],
   "source": [
    "weather.groupby('city_name')['temp'].plot();"
   ]
  }
 ],
 "metadata": {
  "kernelspec": {
   "display_name": "Python 3",
   "language": "python",
   "name": "python3"
  },
  "language_info": {
   "codemirror_mode": {
    "name": "ipython",
    "version": 3
   },
   "file_extension": ".py",
   "mimetype": "text/x-python",
   "name": "python",
   "nbconvert_exporter": "python",
   "pygments_lexer": "ipython3",
   "version": "3.7.6"
  }
 },
 "nbformat": 4,
 "nbformat_minor": 4
}
