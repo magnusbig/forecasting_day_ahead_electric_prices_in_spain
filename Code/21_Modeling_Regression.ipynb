{
 "cells": [
  {
   "cell_type": "markdown",
   "metadata": {},
   "source": [
    "### Initial Modelling"
   ]
  },
  {
   "cell_type": "code",
   "execution_count": null,
   "metadata": {},
   "outputs": [],
   "source": []
  },
  {
   "cell_type": "code",
   "execution_count": null,
   "metadata": {},
   "outputs": [],
   "source": []
  },
  {
   "cell_type": "code",
   "execution_count": null,
   "metadata": {},
   "outputs": [],
   "source": []
  },
  {
   "cell_type": "code",
   "execution_count": null,
   "metadata": {},
   "outputs": [],
   "source": []
  },
  {
   "cell_type": "code",
   "execution_count": null,
   "metadata": {},
   "outputs": [],
   "source": []
  },
  {
   "cell_type": "markdown",
   "metadata": {},
   "source": [
    "### Imports"
   ]
  },
  {
   "cell_type": "code",
   "execution_count": 1,
   "metadata": {},
   "outputs": [],
   "source": [
    "# General Imports\n",
    "import pandas as pd\n",
    "import seaborn as sns\n",
    "import matplotlib.pyplot as plt\n",
    "import numpy as np\n",
    "\n",
    "# General modeling imports\n",
    "from sklearn.model_selection import train_test_split, cross_val_score, GridSearchCV\n",
    "from sklearn import metrics\n",
    "from sklearn.preprocessing import StandardScaler\n",
    "\n",
    "# Models\n",
    "from sklearn.linear_model import LinearRegression\n",
    "from sklearn.neighbors import KNeighborsRegressor\n",
    "from sklearn.svm import SVR\n",
    "from sklearn.ensemble import RandomForestRegressor, AdaBoostRegressor\n"
   ]
  },
  {
   "cell_type": "code",
   "execution_count": 2,
   "metadata": {},
   "outputs": [],
   "source": [
    "df = pd.read_csv('../Data/Analysis/model_data.csv')"
   ]
  },
  {
   "cell_type": "code",
   "execution_count": 4,
   "metadata": {},
   "outputs": [
    {
     "data": {
      "text/html": [
       "<div>\n",
       "<style scoped>\n",
       "    .dataframe tbody tr th:only-of-type {\n",
       "        vertical-align: middle;\n",
       "    }\n",
       "\n",
       "    .dataframe tbody tr th {\n",
       "        vertical-align: top;\n",
       "    }\n",
       "\n",
       "    .dataframe thead th {\n",
       "        text-align: right;\n",
       "    }\n",
       "</style>\n",
       "<table border=\"1\" class=\"dataframe\">\n",
       "  <thead>\n",
       "    <tr style=\"text-align: right;\">\n",
       "      <th></th>\n",
       "      <th>time</th>\n",
       "      <th>oil_price</th>\n",
       "      <th>hour_of_day</th>\n",
       "      <th>date</th>\n",
       "      <th>t_price_0</th>\n",
       "      <th>t_price_1</th>\n",
       "      <th>t_price_2</th>\n",
       "      <th>t_price_3</th>\n",
       "      <th>t_price_4</th>\n",
       "      <th>t_price_5</th>\n",
       "      <th>...</th>\n",
       "      <th>y_price_18</th>\n",
       "      <th>y_price_17</th>\n",
       "      <th>y_price_16</th>\n",
       "      <th>y_price_15</th>\n",
       "      <th>Monday</th>\n",
       "      <th>Saturday</th>\n",
       "      <th>Sunday</th>\n",
       "      <th>Thursday</th>\n",
       "      <th>Tuesday</th>\n",
       "      <th>Wednesday</th>\n",
       "    </tr>\n",
       "  </thead>\n",
       "  <tbody>\n",
       "    <tr>\n",
       "      <th>0</th>\n",
       "      <td>2015-01-02 14:00:00+00:00</td>\n",
       "      <td>43.8585</td>\n",
       "      <td>14</td>\n",
       "      <td>2015-01-02</td>\n",
       "      <td>66.82</td>\n",
       "      <td>63.35</td>\n",
       "      <td>58.79</td>\n",
       "      <td>57.44</td>\n",
       "      <td>55.29</td>\n",
       "      <td>56.22</td>\n",
       "      <td>...</td>\n",
       "      <td>74.26</td>\n",
       "      <td>64.74</td>\n",
       "      <td>61.18</td>\n",
       "      <td>59.76</td>\n",
       "      <td>0</td>\n",
       "      <td>0</td>\n",
       "      <td>0</td>\n",
       "      <td>0</td>\n",
       "      <td>0</td>\n",
       "      <td>0</td>\n",
       "    </tr>\n",
       "    <tr>\n",
       "      <th>1</th>\n",
       "      <td>2015-01-03 14:00:00+00:00</td>\n",
       "      <td>43.8585</td>\n",
       "      <td>14</td>\n",
       "      <td>2015-01-03</td>\n",
       "      <td>55.22</td>\n",
       "      <td>50.54</td>\n",
       "      <td>48.68</td>\n",
       "      <td>48.02</td>\n",
       "      <td>47.06</td>\n",
       "      <td>46.79</td>\n",
       "      <td>...</td>\n",
       "      <td>82.55</td>\n",
       "      <td>72.85</td>\n",
       "      <td>70.64</td>\n",
       "      <td>71.24</td>\n",
       "      <td>0</td>\n",
       "      <td>1</td>\n",
       "      <td>0</td>\n",
       "      <td>0</td>\n",
       "      <td>0</td>\n",
       "      <td>0</td>\n",
       "    </tr>\n",
       "    <tr>\n",
       "      <th>2</th>\n",
       "      <td>2015-01-04 14:00:00+00:00</td>\n",
       "      <td>43.7237</td>\n",
       "      <td>14</td>\n",
       "      <td>2015-01-04</td>\n",
       "      <td>70.77</td>\n",
       "      <td>64.89</td>\n",
       "      <td>60.91</td>\n",
       "      <td>59.68</td>\n",
       "      <td>58.04</td>\n",
       "      <td>59.57</td>\n",
       "      <td>...</td>\n",
       "      <td>71.50</td>\n",
       "      <td>66.69</td>\n",
       "      <td>62.03</td>\n",
       "      <td>62.76</td>\n",
       "      <td>0</td>\n",
       "      <td>0</td>\n",
       "      <td>1</td>\n",
       "      <td>0</td>\n",
       "      <td>0</td>\n",
       "      <td>0</td>\n",
       "    </tr>\n",
       "    <tr>\n",
       "      <th>3</th>\n",
       "      <td>2015-01-05 14:00:00+00:00</td>\n",
       "      <td>41.9574</td>\n",
       "      <td>14</td>\n",
       "      <td>2015-01-05</td>\n",
       "      <td>71.48</td>\n",
       "      <td>64.76</td>\n",
       "      <td>60.22</td>\n",
       "      <td>57.14</td>\n",
       "      <td>53.94</td>\n",
       "      <td>53.43</td>\n",
       "      <td>...</td>\n",
       "      <td>71.98</td>\n",
       "      <td>61.12</td>\n",
       "      <td>52.15</td>\n",
       "      <td>52.07</td>\n",
       "      <td>1</td>\n",
       "      <td>0</td>\n",
       "      <td>0</td>\n",
       "      <td>0</td>\n",
       "      <td>0</td>\n",
       "      <td>0</td>\n",
       "    </tr>\n",
       "    <tr>\n",
       "      <th>4</th>\n",
       "      <td>2015-01-06 14:00:00+00:00</td>\n",
       "      <td>40.3817</td>\n",
       "      <td>14</td>\n",
       "      <td>2015-01-06</td>\n",
       "      <td>67.24</td>\n",
       "      <td>64.17</td>\n",
       "      <td>62.12</td>\n",
       "      <td>62.11</td>\n",
       "      <td>60.05</td>\n",
       "      <td>62.48</td>\n",
       "      <td>...</td>\n",
       "      <td>89.08</td>\n",
       "      <td>80.53</td>\n",
       "      <td>71.85</td>\n",
       "      <td>71.50</td>\n",
       "      <td>0</td>\n",
       "      <td>0</td>\n",
       "      <td>0</td>\n",
       "      <td>0</td>\n",
       "      <td>1</td>\n",
       "      <td>0</td>\n",
       "    </tr>\n",
       "  </tbody>\n",
       "</table>\n",
       "<p>5 rows × 130 columns</p>\n",
       "</div>"
      ],
      "text/plain": [
       "                        time  oil_price  hour_of_day        date  t_price_0  \\\n",
       "0  2015-01-02 14:00:00+00:00    43.8585           14  2015-01-02      66.82   \n",
       "1  2015-01-03 14:00:00+00:00    43.8585           14  2015-01-03      55.22   \n",
       "2  2015-01-04 14:00:00+00:00    43.7237           14  2015-01-04      70.77   \n",
       "3  2015-01-05 14:00:00+00:00    41.9574           14  2015-01-05      71.48   \n",
       "4  2015-01-06 14:00:00+00:00    40.3817           14  2015-01-06      67.24   \n",
       "\n",
       "   t_price_1  t_price_2  t_price_3  t_price_4  t_price_5  ...  y_price_18  \\\n",
       "0      63.35      58.79      57.44      55.29      56.22  ...       74.26   \n",
       "1      50.54      48.68      48.02      47.06      46.79  ...       82.55   \n",
       "2      64.89      60.91      59.68      58.04      59.57  ...       71.50   \n",
       "3      64.76      60.22      57.14      53.94      53.43  ...       71.98   \n",
       "4      64.17      62.12      62.11      60.05      62.48  ...       89.08   \n",
       "\n",
       "   y_price_17  y_price_16  y_price_15  Monday  Saturday  Sunday  Thursday  \\\n",
       "0       64.74       61.18       59.76       0         0       0         0   \n",
       "1       72.85       70.64       71.24       0         1       0         0   \n",
       "2       66.69       62.03       62.76       0         0       1         0   \n",
       "3       61.12       52.15       52.07       1         0       0         0   \n",
       "4       80.53       71.85       71.50       0         0       0         0   \n",
       "\n",
       "   Tuesday  Wednesday  \n",
       "0        0          0  \n",
       "1        0          0  \n",
       "2        0          0  \n",
       "3        0          0  \n",
       "4        1          0  \n",
       "\n",
       "[5 rows x 130 columns]"
      ]
     },
     "execution_count": 4,
     "metadata": {},
     "output_type": "execute_result"
    }
   ],
   "source": [
    "df.head()"
   ]
  },
  {
   "cell_type": "code",
   "execution_count": 5,
   "metadata": {},
   "outputs": [],
   "source": [
    "df.drop(columns=['time'], inplace=True)"
   ]
  },
  {
   "cell_type": "code",
   "execution_count": 8,
   "metadata": {},
   "outputs": [],
   "source": [
    "df.set_index(pd.DatetimeIndex(df['date']), inplace=True)"
   ]
  },
  {
   "cell_type": "code",
   "execution_count": 9,
   "metadata": {},
   "outputs": [],
   "source": [
    "df.sort_index(inplace=True)"
   ]
  },
  {
   "cell_type": "code",
   "execution_count": 12,
   "metadata": {},
   "outputs": [],
   "source": [
    "df.drop(columns=['hour_of_day','date'], inplace=True)"
   ]
  },
  {
   "cell_type": "code",
   "execution_count": 13,
   "metadata": {},
   "outputs": [
    {
     "data": {
      "text/html": [
       "<div>\n",
       "<style scoped>\n",
       "    .dataframe tbody tr th:only-of-type {\n",
       "        vertical-align: middle;\n",
       "    }\n",
       "\n",
       "    .dataframe tbody tr th {\n",
       "        vertical-align: top;\n",
       "    }\n",
       "\n",
       "    .dataframe thead th {\n",
       "        text-align: right;\n",
       "    }\n",
       "</style>\n",
       "<table border=\"1\" class=\"dataframe\">\n",
       "  <thead>\n",
       "    <tr style=\"text-align: right;\">\n",
       "      <th></th>\n",
       "      <th>oil_price</th>\n",
       "      <th>t_price_0</th>\n",
       "      <th>t_price_1</th>\n",
       "      <th>t_price_2</th>\n",
       "      <th>t_price_3</th>\n",
       "      <th>t_price_4</th>\n",
       "      <th>t_price_5</th>\n",
       "      <th>t_price_6</th>\n",
       "      <th>t_price_7</th>\n",
       "      <th>t_price_8</th>\n",
       "      <th>...</th>\n",
       "      <th>y_price_18</th>\n",
       "      <th>y_price_17</th>\n",
       "      <th>y_price_16</th>\n",
       "      <th>y_price_15</th>\n",
       "      <th>Monday</th>\n",
       "      <th>Saturday</th>\n",
       "      <th>Sunday</th>\n",
       "      <th>Thursday</th>\n",
       "      <th>Tuesday</th>\n",
       "      <th>Wednesday</th>\n",
       "    </tr>\n",
       "    <tr>\n",
       "      <th>date</th>\n",
       "      <th></th>\n",
       "      <th></th>\n",
       "      <th></th>\n",
       "      <th></th>\n",
       "      <th></th>\n",
       "      <th></th>\n",
       "      <th></th>\n",
       "      <th></th>\n",
       "      <th></th>\n",
       "      <th></th>\n",
       "      <th></th>\n",
       "      <th></th>\n",
       "      <th></th>\n",
       "      <th></th>\n",
       "      <th></th>\n",
       "      <th></th>\n",
       "      <th></th>\n",
       "      <th></th>\n",
       "      <th></th>\n",
       "      <th></th>\n",
       "      <th></th>\n",
       "    </tr>\n",
       "  </thead>\n",
       "  <tbody>\n",
       "    <tr>\n",
       "      <th>2015-01-02</th>\n",
       "      <td>43.8585</td>\n",
       "      <td>66.82</td>\n",
       "      <td>63.35</td>\n",
       "      <td>58.79</td>\n",
       "      <td>57.44</td>\n",
       "      <td>55.29</td>\n",
       "      <td>56.22</td>\n",
       "      <td>58.13</td>\n",
       "      <td>62.06</td>\n",
       "      <td>67.36</td>\n",
       "      <td>...</td>\n",
       "      <td>74.26</td>\n",
       "      <td>64.74</td>\n",
       "      <td>61.18</td>\n",
       "      <td>59.76</td>\n",
       "      <td>0</td>\n",
       "      <td>0</td>\n",
       "      <td>0</td>\n",
       "      <td>0</td>\n",
       "      <td>0</td>\n",
       "      <td>0</td>\n",
       "    </tr>\n",
       "    <tr>\n",
       "      <th>2015-01-03</th>\n",
       "      <td>43.8585</td>\n",
       "      <td>55.22</td>\n",
       "      <td>50.54</td>\n",
       "      <td>48.68</td>\n",
       "      <td>48.02</td>\n",
       "      <td>47.06</td>\n",
       "      <td>46.79</td>\n",
       "      <td>47.63</td>\n",
       "      <td>47.44</td>\n",
       "      <td>50.84</td>\n",
       "      <td>...</td>\n",
       "      <td>82.55</td>\n",
       "      <td>72.85</td>\n",
       "      <td>70.64</td>\n",
       "      <td>71.24</td>\n",
       "      <td>0</td>\n",
       "      <td>1</td>\n",
       "      <td>0</td>\n",
       "      <td>0</td>\n",
       "      <td>0</td>\n",
       "      <td>0</td>\n",
       "    </tr>\n",
       "    <tr>\n",
       "      <th>2015-01-04</th>\n",
       "      <td>43.7237</td>\n",
       "      <td>70.77</td>\n",
       "      <td>64.89</td>\n",
       "      <td>60.91</td>\n",
       "      <td>59.68</td>\n",
       "      <td>58.04</td>\n",
       "      <td>59.57</td>\n",
       "      <td>69.73</td>\n",
       "      <td>72.97</td>\n",
       "      <td>77.92</td>\n",
       "      <td>...</td>\n",
       "      <td>71.50</td>\n",
       "      <td>66.69</td>\n",
       "      <td>62.03</td>\n",
       "      <td>62.76</td>\n",
       "      <td>0</td>\n",
       "      <td>0</td>\n",
       "      <td>1</td>\n",
       "      <td>0</td>\n",
       "      <td>0</td>\n",
       "      <td>0</td>\n",
       "    </tr>\n",
       "    <tr>\n",
       "      <th>2015-01-05</th>\n",
       "      <td>41.9574</td>\n",
       "      <td>71.48</td>\n",
       "      <td>64.76</td>\n",
       "      <td>60.22</td>\n",
       "      <td>57.14</td>\n",
       "      <td>53.94</td>\n",
       "      <td>53.43</td>\n",
       "      <td>56.68</td>\n",
       "      <td>63.49</td>\n",
       "      <td>66.75</td>\n",
       "      <td>...</td>\n",
       "      <td>71.98</td>\n",
       "      <td>61.12</td>\n",
       "      <td>52.15</td>\n",
       "      <td>52.07</td>\n",
       "      <td>1</td>\n",
       "      <td>0</td>\n",
       "      <td>0</td>\n",
       "      <td>0</td>\n",
       "      <td>0</td>\n",
       "      <td>0</td>\n",
       "    </tr>\n",
       "    <tr>\n",
       "      <th>2015-01-06</th>\n",
       "      <td>40.3817</td>\n",
       "      <td>67.24</td>\n",
       "      <td>64.17</td>\n",
       "      <td>62.12</td>\n",
       "      <td>62.11</td>\n",
       "      <td>60.05</td>\n",
       "      <td>62.48</td>\n",
       "      <td>70.01</td>\n",
       "      <td>75.20</td>\n",
       "      <td>83.30</td>\n",
       "      <td>...</td>\n",
       "      <td>89.08</td>\n",
       "      <td>80.53</td>\n",
       "      <td>71.85</td>\n",
       "      <td>71.50</td>\n",
       "      <td>0</td>\n",
       "      <td>0</td>\n",
       "      <td>0</td>\n",
       "      <td>0</td>\n",
       "      <td>1</td>\n",
       "      <td>0</td>\n",
       "    </tr>\n",
       "  </tbody>\n",
       "</table>\n",
       "<p>5 rows × 127 columns</p>\n",
       "</div>"
      ],
      "text/plain": [
       "            oil_price  t_price_0  t_price_1  t_price_2  t_price_3  t_price_4  \\\n",
       "date                                                                           \n",
       "2015-01-02    43.8585      66.82      63.35      58.79      57.44      55.29   \n",
       "2015-01-03    43.8585      55.22      50.54      48.68      48.02      47.06   \n",
       "2015-01-04    43.7237      70.77      64.89      60.91      59.68      58.04   \n",
       "2015-01-05    41.9574      71.48      64.76      60.22      57.14      53.94   \n",
       "2015-01-06    40.3817      67.24      64.17      62.12      62.11      60.05   \n",
       "\n",
       "            t_price_5  t_price_6  t_price_7  t_price_8  ...  y_price_18  \\\n",
       "date                                                    ...               \n",
       "2015-01-02      56.22      58.13      62.06      67.36  ...       74.26   \n",
       "2015-01-03      46.79      47.63      47.44      50.84  ...       82.55   \n",
       "2015-01-04      59.57      69.73      72.97      77.92  ...       71.50   \n",
       "2015-01-05      53.43      56.68      63.49      66.75  ...       71.98   \n",
       "2015-01-06      62.48      70.01      75.20      83.30  ...       89.08   \n",
       "\n",
       "            y_price_17  y_price_16  y_price_15  Monday  Saturday  Sunday  \\\n",
       "date                                                                       \n",
       "2015-01-02       64.74       61.18       59.76       0         0       0   \n",
       "2015-01-03       72.85       70.64       71.24       0         1       0   \n",
       "2015-01-04       66.69       62.03       62.76       0         0       1   \n",
       "2015-01-05       61.12       52.15       52.07       1         0       0   \n",
       "2015-01-06       80.53       71.85       71.50       0         0       0   \n",
       "\n",
       "            Thursday  Tuesday  Wednesday  \n",
       "date                                      \n",
       "2015-01-02         0        0          0  \n",
       "2015-01-03         0        0          0  \n",
       "2015-01-04         0        0          0  \n",
       "2015-01-05         0        0          0  \n",
       "2015-01-06         0        1          0  \n",
       "\n",
       "[5 rows x 127 columns]"
      ]
     },
     "execution_count": 13,
     "metadata": {},
     "output_type": "execute_result"
    }
   ],
   "source": [
    "df.head()"
   ]
  },
  {
   "cell_type": "markdown",
   "metadata": {},
   "source": [
    "### Functions Used"
   ]
  },
  {
   "cell_type": "code",
   "execution_count": 36,
   "metadata": {},
   "outputs": [],
   "source": [
    "def lin_reg_metrics(lr, X_train, y_train, y_pred, X_test, y_test):\n",
    "    print(f'Test RMSE Score (original units): {np.sqrt(((y_test-y_pred)**(2)).mean())} \\n')\n",
    "    print(f'Train Score (R^2): {lr.score(X_train,y_train)} \\n')\n",
    "    print(f'Test Score (R^2): {lr.score(X_test,y_test)} \\n')    "
   ]
  },
  {
   "cell_type": "markdown",
   "metadata": {},
   "source": [
    "### Prepare Data"
   ]
  },
  {
   "cell_type": "code",
   "execution_count": 17,
   "metadata": {},
   "outputs": [],
   "source": [
    "# Get columns for y\n",
    "y_cols = [col for col in df.columns if col.startswith('t_price')]"
   ]
  },
  {
   "cell_type": "code",
   "execution_count": 19,
   "metadata": {},
   "outputs": [],
   "source": [
    "# Set X and y\n",
    "X = df.drop(columns=y_cols)\n",
    "y = df[y_cols]"
   ]
  },
  {
   "cell_type": "code",
   "execution_count": 31,
   "metadata": {},
   "outputs": [],
   "source": [
    "# Train test split\n",
    "X_train, X_test, y_train, y_test = train_test_split(X,y,\n",
    "                                                    shuffle=False)"
   ]
  },
  {
   "cell_type": "code",
   "execution_count": 32,
   "metadata": {},
   "outputs": [],
   "source": [
    "lr = LinearRegression()\n",
    "lr.fit(X_train,y_train);"
   ]
  },
  {
   "cell_type": "code",
   "execution_count": 33,
   "metadata": {},
   "outputs": [
    {
     "name": "stderr",
     "output_type": "stream",
     "text": [
      "/Users/magnusbigelow/Applications/anaconda3/lib/python3.7/site-packages/sklearn/base.py:434: FutureWarning: The default value of multioutput (not exposed in score method) will change from 'variance_weighted' to 'uniform_average' in 0.23 to keep consistent with 'metrics.r2_score'. To specify the default value manually and avoid the warning, please either call 'metrics.r2_score' directly or make a custom scorer with 'metrics.make_scorer' (the built-in scorer 'r2' uses multioutput='uniform_average').\n",
      "  \"multioutput='uniform_average').\", FutureWarning)\n"
     ]
    },
    {
     "data": {
      "text/plain": [
       "0.8478348240813925"
      ]
     },
     "execution_count": 33,
     "metadata": {},
     "output_type": "execute_result"
    }
   ],
   "source": [
    "lr.score(X_train,y_train)"
   ]
  },
  {
   "cell_type": "code",
   "execution_count": 34,
   "metadata": {},
   "outputs": [
    {
     "name": "stderr",
     "output_type": "stream",
     "text": [
      "/Users/magnusbigelow/Applications/anaconda3/lib/python3.7/site-packages/sklearn/base.py:434: FutureWarning: The default value of multioutput (not exposed in score method) will change from 'variance_weighted' to 'uniform_average' in 0.23 to keep consistent with 'metrics.r2_score'. To specify the default value manually and avoid the warning, please either call 'metrics.r2_score' directly or make a custom scorer with 'metrics.make_scorer' (the built-in scorer 'r2' uses multioutput='uniform_average').\n",
      "  \"multioutput='uniform_average').\", FutureWarning)\n"
     ]
    },
    {
     "data": {
      "text/plain": [
       "0.7107352824933267"
      ]
     },
     "execution_count": 34,
     "metadata": {},
     "output_type": "execute_result"
    }
   ],
   "source": [
    "lr.score(X_test,y_test)"
   ]
  },
  {
   "cell_type": "code",
   "execution_count": 37,
   "metadata": {},
   "outputs": [],
   "source": [
    "pred = lr.predict(X_test)"
   ]
  },
  {
   "cell_type": "code",
   "execution_count": 38,
   "metadata": {},
   "outputs": [
    {
     "data": {
      "text/plain": [
       "array([[31.77059248, 30.55427902, 27.57187385, ..., 51.32963265,\n",
       "        47.53332965, 40.40510643],\n",
       "       [30.15185231, 25.41985807, 20.94103778, ..., 36.87993257,\n",
       "        32.60202683, 29.84014527],\n",
       "       [50.16630009, 44.52623886, 40.49694906, ..., 52.43709673,\n",
       "        48.55004197, 45.03318894],\n",
       "       ...,\n",
       "       [65.77789209, 60.29483015, 57.05887473, ..., 68.54299784,\n",
       "        65.67694664, 64.09738788],\n",
       "       [61.80365175, 57.07844341, 52.00062984, ..., 73.48192982,\n",
       "        70.69542062, 66.51388586],\n",
       "       [69.19704776, 61.73020239, 57.16651035, ..., 78.52279481,\n",
       "        73.58317252, 69.80582645]])"
      ]
     },
     "execution_count": 38,
     "metadata": {},
     "output_type": "execute_result"
    }
   ],
   "source": [
    "pred"
   ]
  },
  {
   "cell_type": "code",
   "execution_count": null,
   "metadata": {},
   "outputs": [],
   "source": []
  }
 ],
 "metadata": {
  "kernelspec": {
   "display_name": "Python 3",
   "language": "python",
   "name": "python3"
  },
  "language_info": {
   "codemirror_mode": {
    "name": "ipython",
    "version": 3
   },
   "file_extension": ".py",
   "mimetype": "text/x-python",
   "name": "python",
   "nbconvert_exporter": "python",
   "pygments_lexer": "ipython3",
   "version": "3.7.6"
  }
 },
 "nbformat": 4,
 "nbformat_minor": 4
}
