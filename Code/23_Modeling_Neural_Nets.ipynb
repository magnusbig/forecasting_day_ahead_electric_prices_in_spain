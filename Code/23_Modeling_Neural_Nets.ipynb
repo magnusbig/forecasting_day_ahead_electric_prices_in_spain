{
 "cells": [
  {
   "cell_type": "markdown",
   "metadata": {},
   "source": [
    "# Neural Net Models\n",
    "\n",
    "Notebook for attempting various neural networks. We will attempt a CNN, RNN and LSTM neural net, all approaches that are fairly popular for time series data. Each neural net will be fit with a single hidden layer of size 64 (approximately the mean of our 103 X variables and 24 y variables) and we will use a dropout layer of 0.5 when to avoid overfitting."
   ]
  },
  {
   "cell_type": "markdown",
   "metadata": {},
   "source": [
    "## Problem Statement"
   ]
  },
  {
   "cell_type": "markdown",
   "metadata": {},
   "source": [
    "Predict electricity prices in Spain for each hour of the upcoming day more accurately than estimates provided by the Spanish transmission agent and operator. \n",
    "\n",
    "Use information available during the 2pm-3pm window the previous day during which generators in Spain submit their bids. "
   ]
  },
  {
   "cell_type": "markdown",
   "metadata": {},
   "source": [
    "## Contents"
   ]
  },
  {
   "cell_type": "markdown",
   "metadata": {},
   "source": [
    "- [Imports](#Imports)\n",
    "- [Functions Used](#Functions-Used)\n",
    "- [Prepare Data](#Prepare-Data)\n",
    "- [Recurrent Neural Network](#RNN)\n",
    "- [Convolutional Neural Network](#CNN)\n",
    "- [Long Short Term Memory](#LSTM-Model)\n",
    "- [Results for Analysis](#Results-for-Analysis)"
   ]
  },
  {
   "cell_type": "markdown",
   "metadata": {},
   "source": [
    "### Imports"
   ]
  },
  {
   "cell_type": "code",
   "execution_count": 196,
   "metadata": {},
   "outputs": [],
   "source": [
    "# General Imports\n",
    "import pandas as pd\n",
    "import seaborn as sns\n",
    "import matplotlib.pyplot as plt\n",
    "import numpy as np\n",
    "\n",
    "# General modeling imports\n",
    "from sklearn.model_selection import train_test_split, GridSearchCV, TimeSeriesSplit\n",
    "from sklearn import metrics\n",
    "from sklearn.preprocessing import StandardScaler\n",
    "from sklearn.pipeline import Pipeline\n",
    "\n",
    "# Neural Net imports\n",
    "from tensorflow.keras.models import Sequential\n",
    "from tensorflow.keras.layers import Dense, LSTM, GRU, Dropout, Conv1D, Flatten, MaxPooling1D\n",
    "from tensorflow.keras.preprocessing.sequence import TimeseriesGenerator\n",
    "from tensorflow.keras.wrappers.scikit_learn import KerasRegressor"
   ]
  },
  {
   "cell_type": "code",
   "execution_count": 173,
   "metadata": {},
   "outputs": [],
   "source": [
    "df = pd.read_csv('../Data/Analysis/model_data.csv')\n",
    "visuals = pd.read_csv('../Data/intermediary/energy.csv')\n",
    "\n",
    "# visuals contains the prices attached to their original hour\n",
    "# and will be used to visualize and compare our predictions\n",
    "visuals.set_index(pd.DatetimeIndex(visuals['time']), inplace=True)\n",
    "visuals = visuals[['price_actual','price_day_ahead']]"
   ]
  },
  {
   "cell_type": "code",
   "execution_count": 174,
   "metadata": {},
   "outputs": [],
   "source": [
    "# Prediction df for appending test predictions too\n",
    "pred_df = visuals[visuals.index.year == 2018]"
   ]
  },
  {
   "cell_type": "markdown",
   "metadata": {},
   "source": [
    "### Functions Used"
   ]
  },
  {
   "cell_type": "code",
   "execution_count": 175,
   "metadata": {},
   "outputs": [],
   "source": [
    "# Function for evaluating the regressions\n",
    "# and outputting a dataframe of different metrics\n",
    "# for each hour predicted\n",
    "def reg_metrics(y_train, y_train_p, y_test, y_test_p, mod):\n",
    "    test_rmse = np.sqrt(((y_test-y_test_p)**(2)).mean())\n",
    "    train_r2 = metrics.r2_score(y_train, y_train_p, multioutput='raw_values')\n",
    "    test_r2 =  metrics.r2_score(y_test, y_test_p, multioutput='raw_values')\n",
    "    metrics_df = pd.DataFrame(data = zip(test_rmse, train_r2, test_r2),\n",
    "                              columns=[mod+'test_rmse',mod+'train_r2',mod+'test_r2'])\n",
    "    return metrics_df\n",
    "\n",
    "# function to convert predictions into dataframe for plotting\n",
    "def append_preds(preds, previous_preds, name):\n",
    "    new_preds = pd.DataFrame(np.ravel(preds),columns=[name], index=previous_preds.index)\n",
    "    return previous_preds.join(new_preds)"
   ]
  },
  {
   "cell_type": "markdown",
   "metadata": {},
   "source": [
    "### Prepare Data"
   ]
  },
  {
   "cell_type": "code",
   "execution_count": 176,
   "metadata": {},
   "outputs": [],
   "source": [
    "# Set up data frame for modeling\n",
    "# Drop time column\n",
    "df.drop(columns=['time'], inplace=True)\n",
    "# set index as date\n",
    "df.set_index(pd.DatetimeIndex(df['date']), inplace=True)\n",
    "# sort index\n",
    "df.sort_index(inplace=True)\n",
    "# drop hour of day and date column\n",
    "df.drop(columns=['hour_of_day','date'], inplace=True)\n",
    "\n",
    "# Get columns for y\n",
    "y_cols = [col for col in df.columns if col.startswith('t_price')]\n",
    "\n",
    "# Set X and y\n",
    "X = df.drop(columns=y_cols)\n",
    "y = df[y_cols]\n",
    "\n",
    "# Train test split\n",
    "X_train, X_test, y_train, y_test = train_test_split(X,y,\n",
    "                                                    shuffle=False)\n",
    "# Need validation set as well for neural networks\n",
    "X_train, X_val, y_train, y_val = train_test_split(X_train,y_train,\n",
    "                                                  shuffle=False,\n",
    "                                                  test_size=0.2)\n",
    "\n",
    "# Scaled data for Neural Networks\n",
    "ss = StandardScaler()\n",
    "Z_train = ss.fit_transform(X_train)\n",
    "Z_val = ss.transform(X_val)\n",
    "Z_test = ss.transform(X_test)"
   ]
  },
  {
   "cell_type": "code",
   "execution_count": 177,
   "metadata": {},
   "outputs": [],
   "source": [
    "# y_train that matches y_train in other notebooks so we can have\n",
    "# consistent metrics and predictions to compare\n",
    "y_full_train = np.concatenate([y_train, y_val], axis=0)\n",
    "Z_train_full = np.concatenate([Z_train, Z_val], axis=0)"
   ]
  },
  {
   "cell_type": "code",
   "execution_count": 193,
   "metadata": {},
   "outputs": [],
   "source": [
    "# Create training sequences\n",
    "train_sequences = TimeseriesGenerator(Z_train, \n",
    "                                      y_train.values, \n",
    "                                      length=7, \n",
    "                                      batch_size=16)\n",
    "\n",
    "# Full train sequence\n",
    "full_sequences = TimeseriesGenerator(Z_train_full, \n",
    "                                      y_full_train, \n",
    "                                      length=7, \n",
    "                                      batch_size=16)\n",
    "\n",
    "# Create val sequences\n",
    "val_sequences = TimeseriesGenerator(Z_val, \n",
    "                                    y_val.values, \n",
    "                                    length=7, \n",
    "                                    batch_size=16)\n",
    "\n",
    "# Create test sequences\n",
    "test_sequences = TimeseriesGenerator(Z_test, \n",
    "                                     y_test.values, \n",
    "                                     length=7, \n",
    "                                     batch_size=16)"
   ]
  },
  {
   "cell_type": "code",
   "execution_count": 179,
   "metadata": {},
   "outputs": [
    {
     "data": {
      "text/plain": [
       "(875, 103)"
      ]
     },
     "execution_count": 179,
     "metadata": {},
     "output_type": "execute_result"
    }
   ],
   "source": [
    "X_train.shape"
   ]
  },
  {
   "cell_type": "markdown",
   "metadata": {},
   "source": [
    "### RNN"
   ]
  },
  {
   "cell_type": "code",
   "execution_count": 199,
   "metadata": {},
   "outputs": [],
   "source": [
    "# Design RNN\n",
    "rnn_model = Sequential()\n",
    "# RNN Layers\n",
    "rnn_model.add(GRU(103, input_shape=(7, 103), \n",
    "              return_sequences=True)) \n",
    "rnn_model.add(GRU(103, return_sequences=False))\n",
    "rnn_model.add(Dropout(0.25))\n",
    "# Hidden dense layer\n",
    "rnn_model.add(Dense(64, activation='relu'))\n",
    "rnn_model.add(Dropout(0.25))\n",
    "# Output layer\n",
    "rnn_model.add(Dense(24, activation='linear'))\n",
    "# Compile model\n",
    "rnn_model.compile(loss='mse', optimizer='adam')"
   ]
  },
  {
   "cell_type": "code",
   "execution_count": 200,
   "metadata": {},
   "outputs": [
    {
     "name": "stdout",
     "output_type": "stream",
     "text": [
      "WARNING:tensorflow:sample_weight modes were coerced from\n",
      "  ...\n",
      "    to  \n",
      "  ['...']\n",
      "WARNING:tensorflow:sample_weight modes were coerced from\n",
      "  ...\n",
      "    to  \n",
      "  ['...']\n"
     ]
    }
   ],
   "source": [
    "rnn_hist = rnn_model.fit_generator(train_sequences,\n",
    "                     epochs=100,\n",
    "                     validation_data=val_sequences,\n",
    "                     verbose=0)\n",
    "\n",
    "model.save('./rnn.h5')"
   ]
  },
  {
   "cell_type": "code",
   "execution_count": 202,
   "metadata": {},
   "outputs": [
    {
     "data": {
      "image/png": "[encoded data removed]",
      "text/plain": [
       "<Figure size 432x288 with 1 Axes>"
      ]
     },
     "metadata": {
      "needs_background": "light"
     },
     "output_type": "display_data"
    }
   ],
   "source": [
    "# Plot the loss curve\n",
    "plt.plot(rnn_hist.history['loss'], label = 'Train loss')\n",
    "plt.plot(rnn_hist.history['val_loss'], label = 'Test loss')\n",
    "plt.ylim(top=500)\n",
    "plt.legend();"
   ]
  },
  {
   "cell_type": "markdown",
   "metadata": {},
   "source": [
    "It looks as though our model has essentially finished fitting and is not overfit. Let's look at our regression metrics to compare to previous models."
   ]
  },
  {
   "cell_type": "code",
   "execution_count": 206,
   "metadata": {},
   "outputs": [],
   "source": [
    "# Get predictions\n",
    "rnn_train_preds = rnn_model.predict(full_sequences)\n",
    "rnn_test_preds = rnn_model.predict(test_sequences)"
   ]
  },
  {
   "cell_type": "code",
   "execution_count": 208,
   "metadata": {},
   "outputs": [
    {
     "data": {
      "text/html": [
       "<div>\n",
       "<style scoped>\n",
       "    .dataframe tbody tr th:only-of-type {\n",
       "        vertical-align: middle;\n",
       "    }\n",
       "\n",
       "    .dataframe tbody tr th {\n",
       "        vertical-align: top;\n",
       "    }\n",
       "\n",
       "    .dataframe thead th {\n",
       "        text-align: right;\n",
       "    }\n",
       "</style>\n",
       "<table border=\"1\" class=\"dataframe\">\n",
       "  <thead>\n",
       "    <tr style=\"text-align: right;\">\n",
       "      <th></th>\n",
       "      <th>count</th>\n",
       "      <th>mean</th>\n",
       "      <th>std</th>\n",
       "      <th>min</th>\n",
       "      <th>25%</th>\n",
       "      <th>50%</th>\n",
       "      <th>75%</th>\n",
       "      <th>max</th>\n",
       "    </tr>\n",
       "  </thead>\n",
       "  <tbody>\n",
       "    <tr>\n",
       "      <th>rnn_test_rmse</th>\n",
       "      <td>24.0</td>\n",
       "      <td>7.813295</td>\n",
       "      <td>0.724297</td>\n",
       "      <td>6.299555</td>\n",
       "      <td>7.179868</td>\n",
       "      <td>7.936063</td>\n",
       "      <td>8.239226</td>\n",
       "      <td>8.983103</td>\n",
       "    </tr>\n",
       "    <tr>\n",
       "      <th>rnn_train_r2</th>\n",
       "      <td>24.0</td>\n",
       "      <td>0.856659</td>\n",
       "      <td>0.044019</td>\n",
       "      <td>0.783221</td>\n",
       "      <td>0.815191</td>\n",
       "      <td>0.863188</td>\n",
       "      <td>0.893998</td>\n",
       "      <td>0.910654</td>\n",
       "    </tr>\n",
       "    <tr>\n",
       "      <th>rnn_test_r2</th>\n",
       "      <td>24.0</td>\n",
       "      <td>0.456544</td>\n",
       "      <td>0.091274</td>\n",
       "      <td>0.315334</td>\n",
       "      <td>0.353073</td>\n",
       "      <td>0.490102</td>\n",
       "      <td>0.533040</td>\n",
       "      <td>0.566119</td>\n",
       "    </tr>\n",
       "  </tbody>\n",
       "</table>\n",
       "</div>"
      ],
      "text/plain": [
       "               count      mean       std       min       25%       50%       75%       max\n",
       "rnn_test_rmse   24.0  7.813295  0.724297  6.299555  7.179868  7.936063  8.239226  8.983103\n",
       "rnn_train_r2    24.0  0.856659  0.044019  0.783221  0.815191  0.863188  0.893998  0.910654\n",
       "rnn_test_r2     24.0  0.456544  0.091274  0.315334  0.353073  0.490102  0.533040  0.566119"
      ]
     },
     "execution_count": 208,
     "metadata": {},
     "output_type": "execute_result"
    }
   ],
   "source": [
    "# Get stats\n",
    "# can only include starting from 8th day of y actual since the \n",
    "# generator used length=7\n",
    "rnn_metrics = reg_metrics(y_full_train[7:], rnn_train_preds, y_test[7:], rnn_test_preds,'rnn_')\n",
    "# Display summary\n",
    "rnn_metrics.describe().T"
   ]
  },
  {
   "cell_type": "markdown",
   "metadata": {},
   "source": [
    "Unfortunately we have yet to be able to properly implement a GridSearch for the rnn model, but these results are not very good so we will move on to the other nn's for now instead of manually gridsearching the rnn. "
   ]
  },
  {
   "cell_type": "markdown",
   "metadata": {},
   "source": [
    "### CNN"
   ]
  },
  {
   "cell_type": "code",
   "execution_count": 136,
   "metadata": {},
   "outputs": [],
   "source": [
    "# Expand dimensions for CNN\n",
    "# Thanks parsethis\n",
    "# https://stackoverflow.com/questions/43396572/dimension-of-shape-in-conv1d/43399308#43399308\n",
    "Z_train_cnn = np.expand_dims(Z_train, axis=2)\n",
    "Z_test_cnn = np.expand_dims(Z_test, axis=2)\n",
    "Z_val_cnn = np.expand_dims(Z_val, axis=2)\n",
    "Z_train_full_cnn = np.expand_dims(Z_train_full, axis=2)"
   ]
  },
  {
   "cell_type": "code",
   "execution_count": 147,
   "metadata": {},
   "outputs": [
    {
     "name": "stdout",
     "output_type": "stream",
     "text": [
      "Best hyperparameters: {'drop': 0.25, 'hidden': 80, 'kernel': 15, 'pool': 2}\n",
      "\n"
     ]
    }
   ],
   "source": [
    "# Function to gridsearch cnn\n",
    "def cnn_function(kernel = 7, pool = 1, drop = 0.25, hidden = 64):\n",
    "    # Design CNN\n",
    "    cnn_model = Sequential()\n",
    "    # CNN Layers \n",
    "    cnn_model.add(Conv1D(filters = 103,       \n",
    "                     kernel_size = kernel,  \n",
    "                     activation = 'relu',   \n",
    "                     input_shape = (103,1))) \n",
    "    cnn_model.add(MaxPooling1D(pool_size=pool))\n",
    "    cnn_model.add(Flatten())\n",
    "    cnn_model.add(Dropout(drop))\n",
    "    # Hidden dense layer\n",
    "    cnn_model.add(Dense(hidden, activation='relu'))\n",
    "    cnn_model.add(Dropout(drop))\n",
    "    # Output layer\n",
    "    cnn_model.add(Dense(24, activation='linear'))\n",
    "    # Compile Model\n",
    "    cnn_model.compile(loss='mse', optimizer='adam')\n",
    "    # return model\n",
    "    return cnn_model\n",
    "\n",
    "# wrapper for sklearn gridsearch compatibility\n",
    "cnn = KerasRegressor(build_fn=cnn_function, \n",
    "                     batch_size = 128,\n",
    "                     epochs = 100,\n",
    "                     verbose = 0)\n",
    "\n",
    "# parameters\n",
    "cnn_params = {\n",
    "    'kernel': [3, 7, 15],\n",
    "    'drop': [0.25, 0.5],\n",
    "    'pool': [2, 4, 7],\n",
    "    'hidden': [80, 64] \n",
    "}\n",
    "\n",
    "# set up gridsearch\n",
    "cnn_gs = GridSearchCV(cnn,\n",
    "                      param_grid=cnn_params,\n",
    "                      cv=TimeSeriesSplit(n_splits=4))\n",
    "\n",
    "# fit model\n",
    "cnn_gs.fit(Z_train_full_cnn, y_full_train)\n",
    "\n",
    "# Get predictions\n",
    "cnn_train_preds = cnn_gs.predict(Z_train_full_cnn)\n",
    "cnn_test_preds = cnn_gs.predict(Z_test_cnn)\n",
    "\n",
    "# Show metrics and best parameters\n",
    "print(f'Best hyperparameters: {cnn_gs.best_params_}\\n')"
   ]
  },
  {
   "cell_type": "code",
   "execution_count": 148,
   "metadata": {},
   "outputs": [],
   "source": [
    "# Save model\n",
    "cnn_gs.best_estimator_.model.save('./Models/cnn.h5')"
   ]
  },
  {
   "cell_type": "code",
   "execution_count": 149,
   "metadata": {},
   "outputs": [
    {
     "data": {
      "text/html": [
       "<div>\n",
       "<style scoped>\n",
       "    .dataframe tbody tr th:only-of-type {\n",
       "        vertical-align: middle;\n",
       "    }\n",
       "\n",
       "    .dataframe tbody tr th {\n",
       "        vertical-align: top;\n",
       "    }\n",
       "\n",
       "    .dataframe thead th {\n",
       "        text-align: right;\n",
       "    }\n",
       "</style>\n",
       "<table border=\"1\" class=\"dataframe\">\n",
       "  <thead>\n",
       "    <tr style=\"text-align: right;\">\n",
       "      <th></th>\n",
       "      <th>count</th>\n",
       "      <th>mean</th>\n",
       "      <th>std</th>\n",
       "      <th>min</th>\n",
       "      <th>25%</th>\n",
       "      <th>50%</th>\n",
       "      <th>75%</th>\n",
       "      <th>max</th>\n",
       "    </tr>\n",
       "  </thead>\n",
       "  <tbody>\n",
       "    <tr>\n",
       "      <th>cnn_test_rmse</th>\n",
       "      <td>24.0</td>\n",
       "      <td>6.414636</td>\n",
       "      <td>0.497576</td>\n",
       "      <td>5.551649</td>\n",
       "      <td>6.054459</td>\n",
       "      <td>6.451337</td>\n",
       "      <td>6.791788</td>\n",
       "      <td>7.212440</td>\n",
       "    </tr>\n",
       "    <tr>\n",
       "      <th>cnn_train_r2</th>\n",
       "      <td>24.0</td>\n",
       "      <td>0.779099</td>\n",
       "      <td>0.031438</td>\n",
       "      <td>0.727605</td>\n",
       "      <td>0.748694</td>\n",
       "      <td>0.783502</td>\n",
       "      <td>0.797284</td>\n",
       "      <td>0.831626</td>\n",
       "    </tr>\n",
       "    <tr>\n",
       "      <th>cnn_test_r2</th>\n",
       "      <td>24.0</td>\n",
       "      <td>0.658081</td>\n",
       "      <td>0.067174</td>\n",
       "      <td>0.473562</td>\n",
       "      <td>0.626033</td>\n",
       "      <td>0.680035</td>\n",
       "      <td>0.711517</td>\n",
       "      <td>0.729775</td>\n",
       "    </tr>\n",
       "  </tbody>\n",
       "</table>\n",
       "</div>"
      ],
      "text/plain": [
       "               count      mean       std       min       25%       50%       75%       max\n",
       "cnn_test_rmse   24.0  6.414636  0.497576  5.551649  6.054459  6.451337  6.791788  7.212440\n",
       "cnn_train_r2    24.0  0.779099  0.031438  0.727605  0.748694  0.783502  0.797284  0.831626\n",
       "cnn_test_r2     24.0  0.658081  0.067174  0.473562  0.626033  0.680035  0.711517  0.729775"
      ]
     },
     "execution_count": 149,
     "metadata": {},
     "output_type": "execute_result"
    }
   ],
   "source": [
    "# Get stats\n",
    "cnn_metrics = reg_metrics(y_full_train, cnn_train_preds, y_test, cnn_test_preds,'cnn_')\n",
    "# Display summary\n",
    "cnn_metrics.describe().T"
   ]
  },
  {
   "cell_type": "code",
   "execution_count": 216,
   "metadata": {},
   "outputs": [
    {
     "data": {
      "text/html": [
       "<div>\n",
       "<style scoped>\n",
       "    .dataframe tbody tr th:only-of-type {\n",
       "        vertical-align: middle;\n",
       "    }\n",
       "\n",
       "    .dataframe tbody tr th {\n",
       "        vertical-align: top;\n",
       "    }\n",
       "\n",
       "    .dataframe thead th {\n",
       "        text-align: right;\n",
       "    }\n",
       "</style>\n",
       "<table border=\"1\" class=\"dataframe\">\n",
       "  <thead>\n",
       "    <tr style=\"text-align: right;\">\n",
       "      <th></th>\n",
       "      <th>price_actual</th>\n",
       "      <th>price_day_ahead</th>\n",
       "      <th>cnn</th>\n",
       "    </tr>\n",
       "    <tr>\n",
       "      <th>time</th>\n",
       "      <th></th>\n",
       "      <th></th>\n",
       "      <th></th>\n",
       "    </tr>\n",
       "  </thead>\n",
       "  <tbody>\n",
       "    <tr>\n",
       "      <th>2018-01-01 00:00:00+00:00</th>\n",
       "      <td>20.76</td>\n",
       "      <td>6.74</td>\n",
       "      <td>40.298073</td>\n",
       "    </tr>\n",
       "    <tr>\n",
       "      <th>2018-01-01 01:00:00+00:00</th>\n",
       "      <td>19.02</td>\n",
       "      <td>4.74</td>\n",
       "      <td>37.405537</td>\n",
       "    </tr>\n",
       "  </tbody>\n",
       "</table>\n",
       "</div>"
      ],
      "text/plain": [
       "                           price_actual  price_day_ahead        cnn\n",
       "time                                                               \n",
       "2018-01-01 00:00:00+00:00         20.76             6.74  40.298073\n",
       "2018-01-01 01:00:00+00:00         19.02             4.74  37.405537"
      ]
     },
     "execution_count": 216,
     "metadata": {},
     "output_type": "execute_result"
    }
   ],
   "source": [
    "# Append predictions to pred df\n",
    "pred_df = append_preds(cnn_test_preds, pred_df, 'cnn')\n",
    "pred_df.head(2)"
   ]
  },
  {
   "cell_type": "markdown",
   "metadata": {},
   "source": [
    "The CNN performed quite well and is one of our better models so far, though it does not match the performance of the SVR model."
   ]
  },
  {
   "cell_type": "markdown",
   "metadata": {},
   "source": [
    "### LSTM Model\n",
    "\n",
    "LSTM models function by progressively 'forgetting' past data points more and more so that they still have an effect on the model but as they are progressively farther in the 'past' than our current position we rely on them less. \n",
    "\n",
    "They are a popular model for speach recognition and time series analysis among other things.\n",
    "\n",
    "For our LSTM Model we will tune the following hyperparameters:\n",
    "- Dropout % for regularization\n",
    "- Number of nodes in the hidden and lstm layers"
   ]
  },
  {
   "cell_type": "code",
   "execution_count": 152,
   "metadata": {},
   "outputs": [
    {
     "name": "stdout",
     "output_type": "stream",
     "text": [
      "Best hyperparameters: {'drop': 0.5, 'hidden': 80, 'lstm_': 103}\n",
      "\n"
     ]
    }
   ],
   "source": [
    "# Function to gridsearch cnn\n",
    "def lstm_function(drop = 0.25, hidden = 64, lstm_ = 64):\n",
    "    # Design lstm\n",
    "    model = Sequential()\n",
    "    # LSTM Layer \n",
    "    model.add(LSTM(lstm_,            \n",
    "                   input_shape = (103,1))) \n",
    "    model.add(Dropout(drop))\n",
    "    # Hidden dense layer\n",
    "    model.add(Dense(hidden, activation='relu'))\n",
    "    model.add(Dropout(drop))\n",
    "    # Output layer\n",
    "    model.add(Dense(24, activation='linear'))\n",
    "    # Compile Model\n",
    "    model.compile(loss='mse', optimizer='adam')\n",
    "    # return model\n",
    "    return model\n",
    "\n",
    "# wrapper for sklearn gridsearch compatibility\n",
    "lstm = KerasRegressor(build_fn=lstm_function, \n",
    "                     batch_size = 128,\n",
    "                     epochs = 100,\n",
    "                     verbose = 0)\n",
    "\n",
    "# parameters\n",
    "lstm_params = {\n",
    "    'lstm_': [64, 103],\n",
    "    'drop': [0.25, 0.5],\n",
    "    'hidden': [80, 64] \n",
    "}\n",
    "\n",
    "# set up gridsearch\n",
    "lstm_gs = GridSearchCV(lstm,\n",
    "                      param_grid=lstm_params,\n",
    "                      cv=TimeSeriesSplit(n_splits=4))\n",
    "\n",
    "# fit model\n",
    "lstm_gs.fit(Z_train_full_cnn, y_full_train)\n",
    "\n",
    "# Get predictions\n",
    "lstm_train_preds = lstm_gs.predict(Z_train_full_cnn)\n",
    "lstm_test_preds = lstm_gs.predict(Z_test_cnn)\n",
    "\n",
    "# Show metrics and best parameters\n",
    "print(f'Best hyperparameters: {lstm_gs.best_params_}\\n')"
   ]
  },
  {
   "cell_type": "code",
   "execution_count": 153,
   "metadata": {},
   "outputs": [],
   "source": [
    "# Save model\n",
    "lstm_gs.best_estimator_.model.save('./Models/lstm.h5')"
   ]
  },
  {
   "cell_type": "code",
   "execution_count": 154,
   "metadata": {},
   "outputs": [
    {
     "data": {
      "text/html": [
       "<div>\n",
       "<style scoped>\n",
       "    .dataframe tbody tr th:only-of-type {\n",
       "        vertical-align: middle;\n",
       "    }\n",
       "\n",
       "    .dataframe tbody tr th {\n",
       "        vertical-align: top;\n",
       "    }\n",
       "\n",
       "    .dataframe thead th {\n",
       "        text-align: right;\n",
       "    }\n",
       "</style>\n",
       "<table border=\"1\" class=\"dataframe\">\n",
       "  <thead>\n",
       "    <tr style=\"text-align: right;\">\n",
       "      <th></th>\n",
       "      <th>count</th>\n",
       "      <th>mean</th>\n",
       "      <th>std</th>\n",
       "      <th>min</th>\n",
       "      <th>25%</th>\n",
       "      <th>50%</th>\n",
       "      <th>75%</th>\n",
       "      <th>max</th>\n",
       "    </tr>\n",
       "  </thead>\n",
       "  <tbody>\n",
       "    <tr>\n",
       "      <th>lstm_test_rmse</th>\n",
       "      <td>24.0</td>\n",
       "      <td>9.201877</td>\n",
       "      <td>0.971797</td>\n",
       "      <td>7.198084</td>\n",
       "      <td>8.578903</td>\n",
       "      <td>9.311308</td>\n",
       "      <td>9.999684</td>\n",
       "      <td>10.757533</td>\n",
       "    </tr>\n",
       "    <tr>\n",
       "      <th>lstm_train_r2</th>\n",
       "      <td>24.0</td>\n",
       "      <td>0.500670</td>\n",
       "      <td>0.048555</td>\n",
       "      <td>0.405865</td>\n",
       "      <td>0.479569</td>\n",
       "      <td>0.512275</td>\n",
       "      <td>0.528729</td>\n",
       "      <td>0.591527</td>\n",
       "    </tr>\n",
       "    <tr>\n",
       "      <th>lstm_test_r2</th>\n",
       "      <td>24.0</td>\n",
       "      <td>0.308769</td>\n",
       "      <td>0.064115</td>\n",
       "      <td>0.202498</td>\n",
       "      <td>0.259935</td>\n",
       "      <td>0.302787</td>\n",
       "      <td>0.362163</td>\n",
       "      <td>0.403073</td>\n",
       "    </tr>\n",
       "  </tbody>\n",
       "</table>\n",
       "</div>"
      ],
      "text/plain": [
       "                count      mean       std       min       25%       50%       75%        max\n",
       "lstm_test_rmse   24.0  9.201877  0.971797  7.198084  8.578903  9.311308  9.999684  10.757533\n",
       "lstm_train_r2    24.0  0.500670  0.048555  0.405865  0.479569  0.512275  0.528729   0.591527\n",
       "lstm_test_r2     24.0  0.308769  0.064115  0.202498  0.259935  0.302787  0.362163   0.403073"
      ]
     },
     "execution_count": 154,
     "metadata": {},
     "output_type": "execute_result"
    }
   ],
   "source": [
    "# Get stats\n",
    "lstm_metrics = reg_metrics(y_full_train, lstm_train_preds, y_test, lstm_test_preds,'lstm_')\n",
    "# Display summary\n",
    "lstm_metrics.describe().T"
   ]
  },
  {
   "cell_type": "markdown",
   "metadata": {},
   "source": [
    "Our LSTM model performed very poorly, perhaps editing the architecture could improve performance. However, this is our worst performing model so far and so pursuing further improvement does not seem like a good use of time."
   ]
  },
  {
   "cell_type": "code",
   "execution_count": 217,
   "metadata": {},
   "outputs": [
    {
     "data": {
      "text/html": [
       "<div>\n",
       "<style scoped>\n",
       "    .dataframe tbody tr th:only-of-type {\n",
       "        vertical-align: middle;\n",
       "    }\n",
       "\n",
       "    .dataframe tbody tr th {\n",
       "        vertical-align: top;\n",
       "    }\n",
       "\n",
       "    .dataframe thead th {\n",
       "        text-align: right;\n",
       "    }\n",
       "</style>\n",
       "<table border=\"1\" class=\"dataframe\">\n",
       "  <thead>\n",
       "    <tr style=\"text-align: right;\">\n",
       "      <th></th>\n",
       "      <th>price_actual</th>\n",
       "      <th>price_day_ahead</th>\n",
       "      <th>cnn</th>\n",
       "      <th>lstm</th>\n",
       "    </tr>\n",
       "    <tr>\n",
       "      <th>time</th>\n",
       "      <th></th>\n",
       "      <th></th>\n",
       "      <th></th>\n",
       "      <th></th>\n",
       "    </tr>\n",
       "  </thead>\n",
       "  <tbody>\n",
       "    <tr>\n",
       "      <th>2018-01-01 00:00:00+00:00</th>\n",
       "      <td>20.76</td>\n",
       "      <td>6.74</td>\n",
       "      <td>40.298073</td>\n",
       "      <td>44.006966</td>\n",
       "    </tr>\n",
       "    <tr>\n",
       "      <th>2018-01-01 01:00:00+00:00</th>\n",
       "      <td>19.02</td>\n",
       "      <td>4.74</td>\n",
       "      <td>37.405537</td>\n",
       "      <td>41.352783</td>\n",
       "    </tr>\n",
       "  </tbody>\n",
       "</table>\n",
       "</div>"
      ],
      "text/plain": [
       "                           price_actual  price_day_ahead        cnn       lstm\n",
       "time                                                                          \n",
       "2018-01-01 00:00:00+00:00         20.76             6.74  40.298073  44.006966\n",
       "2018-01-01 01:00:00+00:00         19.02             4.74  37.405537  41.352783"
      ]
     },
     "execution_count": 217,
     "metadata": {},
     "output_type": "execute_result"
    }
   ],
   "source": [
    "# Append predictions to pred df\n",
    "pred_df = append_preds(lstm_test_preds, pred_df, 'lstm')\n",
    "pred_df.head(2)"
   ]
  },
  {
   "cell_type": "markdown",
   "metadata": {},
   "source": [
    "### Results for Analysis"
   ]
  },
  {
   "cell_type": "code",
   "execution_count": 218,
   "metadata": {},
   "outputs": [],
   "source": [
    "# Save prediction\n",
    "pred_df.to_csv('../Data/Analysis/nn_predictions.csv')"
   ]
  },
  {
   "cell_type": "code",
   "execution_count": 213,
   "metadata": {},
   "outputs": [],
   "source": [
    "# metrics df\n",
    "metrics_df = pd.concat([rnn_metrics, cnn_metrics,\n",
    "                        lstm_metrics],\n",
    "                        axis=1, sort=False)\n",
    "\n",
    "metrics_df.to_csv('../Data/Analysis/nn_metrics.csv')"
   ]
  },
  {
   "cell_type": "code",
   "execution_count": 219,
   "metadata": {},
   "outputs": [
    {
     "data": {
      "text/html": [
       "<div>\n",
       "<style scoped>\n",
       "    .dataframe tbody tr th:only-of-type {\n",
       "        vertical-align: middle;\n",
       "    }\n",
       "\n",
       "    .dataframe tbody tr th {\n",
       "        vertical-align: top;\n",
       "    }\n",
       "\n",
       "    .dataframe thead th {\n",
       "        text-align: right;\n",
       "    }\n",
       "</style>\n",
       "<table border=\"1\" class=\"dataframe\">\n",
       "  <thead>\n",
       "    <tr style=\"text-align: right;\">\n",
       "      <th></th>\n",
       "      <th>price_actual</th>\n",
       "      <th>price_day_ahead</th>\n",
       "      <th>cnn</th>\n",
       "      <th>lstm</th>\n",
       "    </tr>\n",
       "    <tr>\n",
       "      <th>time</th>\n",
       "      <th></th>\n",
       "      <th></th>\n",
       "      <th></th>\n",
       "      <th></th>\n",
       "    </tr>\n",
       "  </thead>\n",
       "  <tbody>\n",
       "    <tr>\n",
       "      <th>2018-01-01 00:00:00+00:00</th>\n",
       "      <td>20.76</td>\n",
       "      <td>6.74</td>\n",
       "      <td>40.298073</td>\n",
       "      <td>44.006966</td>\n",
       "    </tr>\n",
       "    <tr>\n",
       "      <th>2018-01-01 01:00:00+00:00</th>\n",
       "      <td>19.02</td>\n",
       "      <td>4.74</td>\n",
       "      <td>37.405537</td>\n",
       "      <td>41.352783</td>\n",
       "    </tr>\n",
       "    <tr>\n",
       "      <th>2018-01-01 02:00:00+00:00</th>\n",
       "      <td>17.90</td>\n",
       "      <td>3.66</td>\n",
       "      <td>34.922657</td>\n",
       "      <td>39.739094</td>\n",
       "    </tr>\n",
       "    <tr>\n",
       "      <th>2018-01-01 03:00:00+00:00</th>\n",
       "      <td>20.88</td>\n",
       "      <td>2.30</td>\n",
       "      <td>33.367092</td>\n",
       "      <td>38.886688</td>\n",
       "    </tr>\n",
       "    <tr>\n",
       "      <th>2018-01-01 04:00:00+00:00</th>\n",
       "      <td>18.83</td>\n",
       "      <td>2.30</td>\n",
       "      <td>31.794762</td>\n",
       "      <td>38.886810</td>\n",
       "    </tr>\n",
       "  </tbody>\n",
       "</table>\n",
       "</div>"
      ],
      "text/plain": [
       "                           price_actual  price_day_ahead        cnn       lstm\n",
       "time                                                                          \n",
       "2018-01-01 00:00:00+00:00         20.76             6.74  40.298073  44.006966\n",
       "2018-01-01 01:00:00+00:00         19.02             4.74  37.405537  41.352783\n",
       "2018-01-01 02:00:00+00:00         17.90             3.66  34.922657  39.739094\n",
       "2018-01-01 03:00:00+00:00         20.88             2.30  33.367092  38.886688\n",
       "2018-01-01 04:00:00+00:00         18.83             2.30  31.794762  38.886810"
      ]
     },
     "execution_count": 219,
     "metadata": {},
     "output_type": "execute_result"
    }
   ],
   "source": [
    "pred_df.head()"
   ]
  },
  {
   "cell_type": "code",
   "execution_count": null,
   "metadata": {},
   "outputs": [],
   "source": []
  }
 ],
 "metadata": {
  "kernelspec": {
   "display_name": "Python 3",
   "language": "python",
   "name": "python3"
  },
  "language_info": {
   "codemirror_mode": {
    "name": "ipython",
    "version": 3
   },
   "file_extension": ".py",
   "mimetype": "text/x-python",
   "name": "python",
   "nbconvert_exporter": "python",
   "pygments_lexer": "ipython3",
   "version": "3.7.6"
  }
 },
 "nbformat": 4,
 "nbformat_minor": 4
}
